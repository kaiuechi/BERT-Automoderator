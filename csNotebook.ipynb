{
 "cells": [
  {
   "cell_type": "code",
   "execution_count": 1,
   "metadata": {},
   "outputs": [],
   "source": [
    "import gensim\n",
    "import pandas as pd\n",
    "import numpy as np\n",
    "pd.set_option('max_colwidth', 400)\n",
    "import matplotlib.pyplot as plt\n",
    "import matplotlib.ticker as mtick\n",
    "import seaborn as sns\n",
    "from nltk import FreqDist\n",
    "from nltk.tokenize import RegexpTokenizer\n",
    "from nltk.corpus import stopwords\n",
    "from nltk.tokenize import sent_tokenize\n",
    "from nltk.stem.snowball import SnowballStemmer\n",
    "import nltk\n",
    "from sklearn.naive_bayes import MultinomialNB\n",
    "from sklearn.model_selection import cross_val_score\n",
    "from sklearn.model_selection import train_test_split\n",
    "from sklearn.feature_extraction.text import TfidfVectorizer\n",
    "from sklearn.metrics import accuracy_score\n",
    "from sklearn.metrics import f1_score\n",
    "from sklearn.metrics import recall_score\n",
    "from sklearn.metrics import precision_score\n",
    "from sklearn.metrics import confusion_matrix\n",
    "from lime import lime_text\n",
    "import tensorflow.keras.preprocessing\n",
    "import tensorflow.keras.models as models\n",
    "import tensorflow.keras.layers as layers\n",
    "import tensorflow as tf\n",
    "from transformers import TFAutoModelForSequenceClassification\n",
    "from transformers import AutoTokenizer\n",
    "from transformers import create_optimizer\n",
    "from transformers import DataCollatorWithPadding\n",
    "from datasets import Dataset\n",
    "from os.path import exists"
   ]
  },
  {
   "cell_type": "code",
   "execution_count": null,
   "metadata": {},
   "outputs": [],
   "source": []
  },
  {
   "cell_type": "code",
   "execution_count": 2,
   "metadata": {},
   "outputs": [],
   "source": [
    "train = pd.read_csv('data/reddit_200k_train.csv', encoding='ISO-8859-1')\n",
    "test = pd.read_csv('data/reddit_200k_test.csv', encoding='ISO-8859-1')"
   ]
  },
  {
   "cell_type": "code",
   "execution_count": 3,
   "metadata": {
    "scrolled": true
   },
   "outputs": [
    {
     "data": {
      "text/html": [
       "<div>\n",
       "<style scoped>\n",
       "    .dataframe tbody tr th:only-of-type {\n",
       "        vertical-align: middle;\n",
       "    }\n",
       "\n",
       "    .dataframe tbody tr th {\n",
       "        vertical-align: top;\n",
       "    }\n",
       "\n",
       "    .dataframe thead th {\n",
       "        text-align: right;\n",
       "    }\n",
       "</style>\n",
       "<table border=\"1\" class=\"dataframe\">\n",
       "  <thead>\n",
       "    <tr style=\"text-align: right;\">\n",
       "      <th></th>\n",
       "      <th>Unnamed: 0</th>\n",
       "      <th>body</th>\n",
       "      <th>score.x</th>\n",
       "      <th>parent_id.x</th>\n",
       "      <th>id</th>\n",
       "      <th>created_utc.x</th>\n",
       "      <th>retrieved_on</th>\n",
       "      <th>REMOVED</th>\n",
       "    </tr>\n",
       "  </thead>\n",
       "  <tbody>\n",
       "    <tr>\n",
       "      <th>0</th>\n",
       "      <td>1</td>\n",
       "      <td>I've always been taught it emerged from the earth after an impace. That is why it has similar elemental distribution to earth</td>\n",
       "      <td>2</td>\n",
       "      <td>t3_81u15i</td>\n",
       "      <td>dv551g6</td>\n",
       "      <td>1520121101</td>\n",
       "      <td>1524782256</td>\n",
       "      <td>False</td>\n",
       "    </tr>\n",
       "    <tr>\n",
       "      <th>1</th>\n",
       "      <td>2</td>\n",
       "      <td>As an ECE, my first feeling as \"HEY THAT'S NOT-\" and then I thought about all the times my co-workers couldn't even write a simple message in our communication book without making mistakes. \\r\\n\\r\\nI'm getting out of the profession.</td>\n",
       "      <td>2</td>\n",
       "      <td>t3_72sk35</td>\n",
       "      <td>dnl66g6</td>\n",
       "      <td>1506533157</td>\n",
       "      <td>1507150439</td>\n",
       "      <td>True</td>\n",
       "    </tr>\n",
       "    <tr>\n",
       "      <th>2</th>\n",
       "      <td>3</td>\n",
       "      <td>Monday: Drug companies stock dives on good news for patients.</td>\n",
       "      <td>5</td>\n",
       "      <td>t3_8o88yr</td>\n",
       "      <td>e02sjhz</td>\n",
       "      <td>1528087570</td>\n",
       "      <td>1532170350</td>\n",
       "      <td>True</td>\n",
       "    </tr>\n",
       "    <tr>\n",
       "      <th>3</th>\n",
       "      <td>4</td>\n",
       "      <td>i learned that all hybrids are unfertile i wont read clickbaits https://biology.stackexchange.com/questions/16922/why-are-hybrids-infertile</td>\n",
       "      <td>0</td>\n",
       "      <td>t3_6xg9t8</td>\n",
       "      <td>dmfojjp</td>\n",
       "      <td>1504290041</td>\n",
       "      <td>1506407514</td>\n",
       "      <td>False</td>\n",
       "    </tr>\n",
       "    <tr>\n",
       "      <th>4</th>\n",
       "      <td>5</td>\n",
       "      <td>Well i was wanting to get wasted tonight.  Not so much after reading this article...</td>\n",
       "      <td>3</td>\n",
       "      <td>t3_99wi9m</td>\n",
       "      <td>e4rtew8</td>\n",
       "      <td>1535140675</td>\n",
       "      <td>1537893540</td>\n",
       "      <td>False</td>\n",
       "    </tr>\n",
       "  </tbody>\n",
       "</table>\n",
       "</div>"
      ],
      "text/plain": [
       "   Unnamed: 0  \\\n",
       "0           1   \n",
       "1           2   \n",
       "2           3   \n",
       "3           4   \n",
       "4           5   \n",
       "\n",
       "                                                                                                                                                                                                                                        body  \\\n",
       "0                                                                                                              I've always been taught it emerged from the earth after an impace. That is why it has similar elemental distribution to earth   \n",
       "1  As an ECE, my first feeling as \"HEY THAT'S NOT-\" and then I thought about all the times my co-workers couldn't even write a simple message in our communication book without making mistakes. \\r\\n\\r\\nI'm getting out of the profession.    \n",
       "2                                                                                                                                                                              Monday: Drug companies stock dives on good news for patients.   \n",
       "3                                                                                                i learned that all hybrids are unfertile i wont read clickbaits https://biology.stackexchange.com/questions/16922/why-are-hybrids-infertile   \n",
       "4                                                                                                                                                       Well i was wanting to get wasted tonight.  Not so much after reading this article...   \n",
       "\n",
       "   score.x parent_id.x       id  created_utc.x  retrieved_on  REMOVED  \n",
       "0        2   t3_81u15i  dv551g6     1520121101    1524782256    False  \n",
       "1        2   t3_72sk35  dnl66g6     1506533157    1507150439     True  \n",
       "2        5   t3_8o88yr  e02sjhz     1528087570    1532170350     True  \n",
       "3        0   t3_6xg9t8  dmfojjp     1504290041    1506407514    False  \n",
       "4        3   t3_99wi9m  e4rtew8     1535140675    1537893540    False  "
      ]
     },
     "execution_count": 3,
     "metadata": {},
     "output_type": "execute_result"
    }
   ],
   "source": [
    "train.head()\n",
    "#score.x appears to be upvotes?"
   ]
  },
  {
   "cell_type": "code",
   "execution_count": 4,
   "metadata": {},
   "outputs": [
    {
     "name": "stdout",
     "output_type": "stream",
     "text": [
      "Length of train split: 167529\n",
      "Length of test split: 55843\n",
      "Relative test split size: 0.25\n"
     ]
    }
   ],
   "source": [
    "print('Length of train split:', len(train))\n",
    "print('Length of test split:', len(test))\n",
    "print('Relative test split size:', 1/((len(test)+len(train))/len(test)))"
   ]
  },
  {
   "cell_type": "code",
   "execution_count": 5,
   "metadata": {},
   "outputs": [
    {
     "name": "stdout",
     "output_type": "stream",
     "text": [
      "Label distribution:\n",
      " False    0.61492\n",
      "True     0.38508\n",
      "Name: REMOVED, dtype: float64\n"
     ]
    },
    {
     "data": {
      "text/plain": [
       "Text(1.93, 0.43507959815912467, '38.51%')"
      ]
     },
     "execution_count": 5,
     "metadata": {},
     "output_type": "execute_result"
    },
    {
     "data": {
      "image/png": "[encoded data removed]",
      "text/plain": [
       "<Figure size 864x576 with 1 Axes>"
      ]
     },
     "metadata": {
      "needs_background": "light"
     },
     "output_type": "display_data"
    }
   ],
   "source": [
    "percentage_not_removed = pd.concat([train['REMOVED'], test['REMOVED']]).value_counts(normalize=True)[0]\n",
    "percentage_removed = pd.concat([train['REMOVED'], test['REMOVED']]).value_counts(normalize=True)[1]\n",
    "print('Label distribution:\\n', pd.concat([train['REMOVED'], test['REMOVED']]).value_counts(normalize=True))\n",
    "\n",
    "fig, ax = plt.subplots(figsize=(12,8))\n",
    "ax.bar(1, percentage_not_removed, label='Not Removed')\n",
    "ax.bar(2, percentage_removed, label='Removed')\n",
    "ax.set_title('Percentage distribution of labels', fontsize=15)\n",
    "plt.xticks([1,2],['Not Removed', 'Removed'], fontsize=12)\n",
    "plt.tick_params(\n",
    "    axis='x',\n",
    "    which='minor',\n",
    "    bottom=False,\n",
    "    top=False,\n",
    "    labelbottom=False)\n",
    "plt.ylabel('Category Frequency', fontsize=12)\n",
    "plt.ylim(0, 1)\n",
    "ax.yaxis.set_major_formatter(mtick.PercentFormatter(1.0, decimals=2))\n",
    "plt.yticks([0, 0.1, 0.2, 0.3, 0.4, 0.5, 0.6, 0.7, 0.8, 0.9, 1])\n",
    "plt.text(1 -0.07, percentage_not_removed + 0.05, \"{:.2%}\".format(percentage_not_removed), fontsize=16)\n",
    "plt.text(2 -0.07, percentage_removed + 0.05, \"{:.2%}\".format(percentage_removed), fontsize=16)"
   ]
  },
  {
   "cell_type": "code",
   "execution_count": 6,
   "metadata": {
    "scrolled": true
   },
   "outputs": [
    {
     "data": {
      "text/html": [
       "<div>\n",
       "<style scoped>\n",
       "    .dataframe tbody tr th:only-of-type {\n",
       "        vertical-align: middle;\n",
       "    }\n",
       "\n",
       "    .dataframe tbody tr th {\n",
       "        vertical-align: top;\n",
       "    }\n",
       "\n",
       "    .dataframe thead th {\n",
       "        text-align: right;\n",
       "    }\n",
       "</style>\n",
       "<table border=\"1\" class=\"dataframe\">\n",
       "  <thead>\n",
       "    <tr style=\"text-align: right;\">\n",
       "      <th></th>\n",
       "      <th>Unnamed: 0</th>\n",
       "      <th>body</th>\n",
       "      <th>score.x</th>\n",
       "      <th>parent_id.x</th>\n",
       "      <th>id</th>\n",
       "      <th>created_utc.x</th>\n",
       "      <th>retrieved_on</th>\n",
       "      <th>REMOVED</th>\n",
       "    </tr>\n",
       "  </thead>\n",
       "  <tbody>\n",
       "    <tr>\n",
       "      <th>425</th>\n",
       "      <td>426</td>\n",
       "      <td>Hi Z0idberg_MD, your submission has been removed for the following reason(s)\\r\\n \\r\\nYour submission has been removed because flair has not been assigned. \\r\\n \\r\\n*This removal was automatic. If you feel this was done in error, or would like further clarification, please add flair to the post and then [message the mods](http://www.reddit.com/message/compose?to=%2Fr%2FScience&amp;amp;amp;message=M...</td>\n",
       "      <td>4</td>\n",
       "      <td>t3_78bxng</td>\n",
       "      <td>dosmmc6</td>\n",
       "      <td>1508803513</td>\n",
       "      <td>1510120310</td>\n",
       "      <td>False</td>\n",
       "    </tr>\n",
       "    <tr>\n",
       "      <th>470</th>\n",
       "      <td>471</td>\n",
       "      <td>Hi 432_Hz, your submission has been removed for the following reason(s)\\r\\n \\r\\nYour submission has been removed because flair has not been assigned. \\r\\n \\r\\n*This removal was automatic. If you feel this was done in error, or would like further clarification, please add flair to the post and then [message the mods](http://www.reddit.com/message/compose?to=%2Fr%2FScience&amp;amp;amp;message=My%20P...</td>\n",
       "      <td>2</td>\n",
       "      <td>t3_7gu35y</td>\n",
       "      <td>dqlpg3r</td>\n",
       "      <td>1512123314</td>\n",
       "      <td>1514226457</td>\n",
       "      <td>True</td>\n",
       "    </tr>\n",
       "    <tr>\n",
       "      <th>1736</th>\n",
       "      <td>1737</td>\n",
       "      <td>Hi xxxlovelit, your submission has been removed for the following reason(s)\\r\\n \\r\\nYour submission has been removed because flair has not been assigned. \\r\\n \\r\\n*This removal was automatic. If you feel this was done in error, or would like further clarification, please add flair to the post and then [message the mods](http://www.reddit.com/message/compose?to=%2Fr%2FScience&amp;amp;amp;message=My...</td>\n",
       "      <td>0</td>\n",
       "      <td>t3_9hqtmi</td>\n",
       "      <td>e6dssic</td>\n",
       "      <td>1537543212</td>\n",
       "      <td>1539369659</td>\n",
       "      <td>True</td>\n",
       "    </tr>\n",
       "    <tr>\n",
       "      <th>1890</th>\n",
       "      <td>1891</td>\n",
       "      <td>Hi FM9022, your submission has been removed for the following reason(s)\\r\\n \\r\\nYour submission has been removed because flair has not been assigned. \\r\\n \\r\\n*This removal was automatic. If you feel this was done in error, or would like further clarification, please add flair to the post and then [message the mods](http://www.reddit.com/message/compose?to=%2Fr%2FScience&amp;amp;amp;message=My%20P...</td>\n",
       "      <td>2</td>\n",
       "      <td>t3_7eywxu</td>\n",
       "      <td>dq8cqef</td>\n",
       "      <td>1511435412</td>\n",
       "      <td>1512927391</td>\n",
       "      <td>True</td>\n",
       "    </tr>\n",
       "    <tr>\n",
       "      <th>1972</th>\n",
       "      <td>1973</td>\n",
       "      <td>Hi kolorful, your submission has been removed for the following reason(s)\\r\\n \\r\\nYour submission has been removed because flair has not been assigned. \\r\\n \\r\\n*This removal was automatic. If you feel this was done in error, or would like further clarification, please add flair to the post and then [message the mods](http://www.reddit.com/message/compose?to=%2Fr%2FScience&amp;amp;amp;message=My%2...</td>\n",
       "      <td>2</td>\n",
       "      <td>t3_5x6s6e</td>\n",
       "      <td>defpo78</td>\n",
       "      <td>1488497714</td>\n",
       "      <td>1491157692</td>\n",
       "      <td>False</td>\n",
       "    </tr>\n",
       "    <tr>\n",
       "      <th>...</th>\n",
       "      <td>...</td>\n",
       "      <td>...</td>\n",
       "      <td>...</td>\n",
       "      <td>...</td>\n",
       "      <td>...</td>\n",
       "      <td>...</td>\n",
       "      <td>...</td>\n",
       "      <td>...</td>\n",
       "    </tr>\n",
       "    <tr>\n",
       "      <th>164288</th>\n",
       "      <td>164289</td>\n",
       "      <td>Hi drewiepoodle, your submission has been removed for the following reason(s)\\r\\n \\r\\nYour submission has been removed because flair has not been assigned. \\r\\n \\r\\n*This removal was automatic. If you feel this was done in error, or would like further clarification, please add flair to the post and then [message the mods](http://www.reddit.com/message/compose?to=%2Fr%2FScience&amp;amp;amp;message=...</td>\n",
       "      <td>0</td>\n",
       "      <td>t3_8nj7gg</td>\n",
       "      <td>dzvukp6</td>\n",
       "      <td>1527780311</td>\n",
       "      <td>1528193263</td>\n",
       "      <td>True</td>\n",
       "    </tr>\n",
       "    <tr>\n",
       "      <th>164987</th>\n",
       "      <td>164988</td>\n",
       "      <td>Your submission has been removed because it violates our submission rules. Please read the [Rules for Headlines](https://www.reddit.com/r/science/wiki/clickbait) and contact the mods if you have further questions.\\r\\n\\r\\n*I am a bot, and this action was performed automatically. Please [contact the moderators of this subreddit](/message/compose/?to=/r/science) if you have any questions or conce...</td>\n",
       "      <td>2</td>\n",
       "      <td>t3_5n65jd</td>\n",
       "      <td>dc8x5ab</td>\n",
       "      <td>1484067606</td>\n",
       "      <td>1485934698</td>\n",
       "      <td>False</td>\n",
       "    </tr>\n",
       "    <tr>\n",
       "      <th>165061</th>\n",
       "      <td>165062</td>\n",
       "      <td>Your submission has been removed because it violates our submission rules. Please read the [Rules for Headlines](https://www.reddit.com/r/science/wiki/clickbait) and contact the mods if you have further questions.\\r\\n\\r\\n*I am a bot, and this action was performed automatically. Please [contact the moderators of this subreddit](/message/compose/?to=/r/science) if you have any questions or conce...</td>\n",
       "      <td>2</td>\n",
       "      <td>t3_8kh0eu</td>\n",
       "      <td>dz7kvv3</td>\n",
       "      <td>1526682161</td>\n",
       "      <td>1527680654</td>\n",
       "      <td>False</td>\n",
       "    </tr>\n",
       "    <tr>\n",
       "      <th>166707</th>\n",
       "      <td>166708</td>\n",
       "      <td>Hi giraldita, your submission has been removed for the following reason(s)\\r\\n \\r\\nYour submission has been removed because flair has not been assigned. \\r\\n \\r\\n*This removal was automatic. If you feel this was done in error, or would like further clarification, please add flair to the post and then [message the mods](http://www.reddit.com/message/compose?to=%2Fr%2FScience&amp;amp;amp;message=My%...</td>\n",
       "      <td>2</td>\n",
       "      <td>t3_9dxug3</td>\n",
       "      <td>e5kp9rq</td>\n",
       "      <td>1536350415</td>\n",
       "      <td>1538806894</td>\n",
       "      <td>False</td>\n",
       "    </tr>\n",
       "    <tr>\n",
       "      <th>167348</th>\n",
       "      <td>167349</td>\n",
       "      <td>Hi msh1371, your submission has been removed for the following reason(s)\\r\\n \\r\\nYour submission has been removed because flair has not been assigned. \\r\\n \\r\\n*This removal was automatic. If you feel this was done in error, or would like further clarification, please add flair to the post and then [message the mods](http://www.reddit.com/message/compose?to=%2Fr%2FScience&amp;amp;amp;message=My%20...</td>\n",
       "      <td>2</td>\n",
       "      <td>t3_5lumxk</td>\n",
       "      <td>dbyle2i</td>\n",
       "      <td>1483479620</td>\n",
       "      <td>1485751194</td>\n",
       "      <td>False</td>\n",
       "    </tr>\n",
       "  </tbody>\n",
       "</table>\n",
       "<p>277 rows × 8 columns</p>\n",
       "</div>"
      ],
      "text/plain": [
       "        Unnamed: 0  \\\n",
       "425            426   \n",
       "470            471   \n",
       "1736          1737   \n",
       "1890          1891   \n",
       "1972          1973   \n",
       "...            ...   \n",
       "164288      164289   \n",
       "164987      164988   \n",
       "165061      165062   \n",
       "166707      166708   \n",
       "167348      167349   \n",
       "\n",
       "                                                                                                                                                                                                                                                                                                                                                                                                                   body  \\\n",
       "425     Hi Z0idberg_MD, your submission has been removed for the following reason(s)\\r\\n \\r\\nYour submission has been removed because flair has not been assigned. \\r\\n \\r\\n*This removal was automatic. If you feel this was done in error, or would like further clarification, please add flair to the post and then [message the mods](http://www.reddit.com/message/compose?to=%2Fr%2FScience&amp;amp;message=M...   \n",
       "470     Hi 432_Hz, your submission has been removed for the following reason(s)\\r\\n \\r\\nYour submission has been removed because flair has not been assigned. \\r\\n \\r\\n*This removal was automatic. If you feel this was done in error, or would like further clarification, please add flair to the post and then [message the mods](http://www.reddit.com/message/compose?to=%2Fr%2FScience&amp;amp;message=My%20P...   \n",
       "1736    Hi xxxlovelit, your submission has been removed for the following reason(s)\\r\\n \\r\\nYour submission has been removed because flair has not been assigned. \\r\\n \\r\\n*This removal was automatic. If you feel this was done in error, or would like further clarification, please add flair to the post and then [message the mods](http://www.reddit.com/message/compose?to=%2Fr%2FScience&amp;amp;message=My...   \n",
       "1890    Hi FM9022, your submission has been removed for the following reason(s)\\r\\n \\r\\nYour submission has been removed because flair has not been assigned. \\r\\n \\r\\n*This removal was automatic. If you feel this was done in error, or would like further clarification, please add flair to the post and then [message the mods](http://www.reddit.com/message/compose?to=%2Fr%2FScience&amp;amp;message=My%20P...   \n",
       "1972    Hi kolorful, your submission has been removed for the following reason(s)\\r\\n \\r\\nYour submission has been removed because flair has not been assigned. \\r\\n \\r\\n*This removal was automatic. If you feel this was done in error, or would like further clarification, please add flair to the post and then [message the mods](http://www.reddit.com/message/compose?to=%2Fr%2FScience&amp;amp;message=My%2...   \n",
       "...                                                                                                                                                                                                                                                                                                                                                                                                                 ...   \n",
       "164288  Hi drewiepoodle, your submission has been removed for the following reason(s)\\r\\n \\r\\nYour submission has been removed because flair has not been assigned. \\r\\n \\r\\n*This removal was automatic. If you feel this was done in error, or would like further clarification, please add flair to the post and then [message the mods](http://www.reddit.com/message/compose?to=%2Fr%2FScience&amp;amp;message=...   \n",
       "164987  Your submission has been removed because it violates our submission rules. Please read the [Rules for Headlines](https://www.reddit.com/r/science/wiki/clickbait) and contact the mods if you have further questions.\\r\\n\\r\\n*I am a bot, and this action was performed automatically. Please [contact the moderators of this subreddit](/message/compose/?to=/r/science) if you have any questions or conce...   \n",
       "165061  Your submission has been removed because it violates our submission rules. Please read the [Rules for Headlines](https://www.reddit.com/r/science/wiki/clickbait) and contact the mods if you have further questions.\\r\\n\\r\\n*I am a bot, and this action was performed automatically. Please [contact the moderators of this subreddit](/message/compose/?to=/r/science) if you have any questions or conce...   \n",
       "166707  Hi giraldita, your submission has been removed for the following reason(s)\\r\\n \\r\\nYour submission has been removed because flair has not been assigned. \\r\\n \\r\\n*This removal was automatic. If you feel this was done in error, or would like further clarification, please add flair to the post and then [message the mods](http://www.reddit.com/message/compose?to=%2Fr%2FScience&amp;amp;message=My%...   \n",
       "167348  Hi msh1371, your submission has been removed for the following reason(s)\\r\\n \\r\\nYour submission has been removed because flair has not been assigned. \\r\\n \\r\\n*This removal was automatic. If you feel this was done in error, or would like further clarification, please add flair to the post and then [message the mods](http://www.reddit.com/message/compose?to=%2Fr%2FScience&amp;amp;message=My%20...   \n",
       "\n",
       "        score.x parent_id.x       id  created_utc.x  retrieved_on  REMOVED  \n",
       "425           4   t3_78bxng  dosmmc6     1508803513    1510120310    False  \n",
       "470           2   t3_7gu35y  dqlpg3r     1512123314    1514226457     True  \n",
       "1736          0   t3_9hqtmi  e6dssic     1537543212    1539369659     True  \n",
       "1890          2   t3_7eywxu  dq8cqef     1511435412    1512927391     True  \n",
       "1972          2   t3_5x6s6e  defpo78     1488497714    1491157692    False  \n",
       "...         ...         ...      ...            ...           ...      ...  \n",
       "164288        0   t3_8nj7gg  dzvukp6     1527780311    1528193263     True  \n",
       "164987        2   t3_5n65jd  dc8x5ab     1484067606    1485934698    False  \n",
       "165061        2   t3_8kh0eu  dz7kvv3     1526682161    1527680654    False  \n",
       "166707        2   t3_9dxug3  e5kp9rq     1536350415    1538806894    False  \n",
       "167348        2   t3_5lumxk  dbyle2i     1483479620    1485751194    False  \n",
       "\n",
       "[277 rows x 8 columns]"
      ]
     },
     "execution_count": 6,
     "metadata": {},
     "output_type": "execute_result"
    }
   ],
   "source": [
    "# Comment removal messages are contained in this set, too.\n",
    "# Since these are automated or from moderators, they do not \n",
    "# represent the kinds of comments the model will actually be working with.\n",
    "train.loc[train['body'].str.contains('has been removed because')]"
   ]
  },
  {
   "cell_type": "code",
   "execution_count": 7,
   "metadata": {},
   "outputs": [],
   "source": [
    "stopwords_list = stopwords.words('english')\n",
    "\n",
    "def remove_stopwords(input_list):\n",
    "    output_list = []\n",
    "    for word in input_list:\n",
    "        if word not in stopwords_list:\n",
    "            output_list.append(word)\n",
    "    return output_list\n",
    "\n",
    "\n",
    "def clean_input(input_df):\n",
    "    df = input_df.copy() #copy df \n",
    "\n",
    "    #drop useless columns\n",
    "    df.drop(['Unnamed: 0', 'score.x', 'parent_id.x', 'id', 'created_utc.x', 'retrieved_on'], axis=1, inplace=True)\n",
    "    \n",
    "    #lowercase\n",
    "    df.body = df.body.str.lower()\n",
    "    \n",
    "    #drop all rows matching removal text\n",
    "    df.drop(\n",
    "        df.loc[df['body'].str.contains('your submission has been removed for the following')].index,\n",
    "        inplace=True\n",
    "    )\n",
    "    \n",
    "    df.drop(\n",
    "        df.loc[df['body'].str.contains('has been removed because')].index,\n",
    "        inplace=True\n",
    "    )\n",
    "    \n",
    "    #strip special characters and tokenize\n",
    "    pattern = r\"(?u)\\b\\w\\w+\\b\"\n",
    "    tokenizer = RegexpTokenizer(pattern)\n",
    "    df['tokenized'] = df['body'].apply(tokenizer.tokenize)\n",
    "    \n",
    "    #remove stopwords\n",
    "    df['no_stop'] = df['tokenized'].apply(remove_stopwords)\n",
    "    \n",
    "    #lemma\n",
    "    lemma = nltk.stem.wordnet.WordNetLemmatizer()\n",
    "    df['lemma'] = df['no_stop'].apply(lambda x: [lemma.lemmatize(y) for y in x])\n",
    "    \n",
    "    #save seperately as string\n",
    "    df['clean_string'] = df['lemma'].apply(lambda x: ' '.join(x))\n",
    "    \n",
    "    #drop NaNs\n",
    "    df.drop(df.loc[df['clean_string'].isna()].index, inplace=True)\n",
    "    \n",
    "    #drop empty strings\n",
    "    df.drop(df.loc[df['clean_string'] == ''].index, inplace=True)\n",
    "    #print(df.isna().sum())\n",
    "\n",
    "    return df\n",
    "\n",
    "#load cleaned csv if it already exists, otherwise clean and save\n",
    "if exists('data/data_cleaned.csv'):\n",
    "    data_cleaned = pd.read_csv('data/data_cleaned.csv', index_col='Unnamed: 0')\n",
    "\n",
    "else:\n",
    "    train_cleaned = clean_input(train)\n",
    "    test_cleaned = clean_input(test)\n",
    "\n",
    "    data_cleaned = pd.concat([train_cleaned, test_cleaned])\n",
    "    data_cleaned.reset_index(inplace=True)\n",
    "    data_cleaned.drop(['index'], axis=1, inplace=True)\n",
    "    #data_cleaned.head()\n",
    "    data_cleaned.to_csv('data/data_cleaned.csv')\n",
    "    data_cleaned = pd.read_csv('data/data_cleaned.csv', index_col='Unnamed: 0')"
   ]
  },
  {
   "cell_type": "code",
   "execution_count": 8,
   "metadata": {
    "scrolled": true
   },
   "outputs": [
    {
     "data": {
      "text/html": [
       "<div>\n",
       "<style scoped>\n",
       "    .dataframe tbody tr th:only-of-type {\n",
       "        vertical-align: middle;\n",
       "    }\n",
       "\n",
       "    .dataframe tbody tr th {\n",
       "        vertical-align: top;\n",
       "    }\n",
       "\n",
       "    .dataframe thead th {\n",
       "        text-align: right;\n",
       "    }\n",
       "</style>\n",
       "<table border=\"1\" class=\"dataframe\">\n",
       "  <thead>\n",
       "    <tr style=\"text-align: right;\">\n",
       "      <th></th>\n",
       "      <th>body</th>\n",
       "      <th>REMOVED</th>\n",
       "      <th>tokenized</th>\n",
       "      <th>no_stop</th>\n",
       "      <th>lemma</th>\n",
       "      <th>clean_string</th>\n",
       "    </tr>\n",
       "  </thead>\n",
       "  <tbody>\n",
       "    <tr>\n",
       "      <th>0</th>\n",
       "      <td>i've always been taught it emerged from the earth after an impace. that is why it has similar elemental distribution to earth</td>\n",
       "      <td>False</td>\n",
       "      <td>['ve', 'always', 'been', 'taught', 'it', 'emerged', 'from', 'the', 'earth', 'after', 'an', 'impace', 'that', 'is', 'why', 'it', 'has', 'similar', 'elemental', 'distribution', 'to', 'earth']</td>\n",
       "      <td>['always', 'taught', 'emerged', 'earth', 'impace', 'similar', 'elemental', 'distribution', 'earth']</td>\n",
       "      <td>['always', 'taught', 'emerged', 'earth', 'impace', 'similar', 'elemental', 'distribution', 'earth']</td>\n",
       "      <td>always taught emerged earth impace similar elemental distribution earth</td>\n",
       "    </tr>\n",
       "    <tr>\n",
       "      <th>1</th>\n",
       "      <td>as an ece, my first feeling as \"hey that's not-\" and then i thought about all the times my co-workers couldn't even write a simple message in our communication book without making mistakes. \\r\\n\\r\\ni'm getting out of the profession.</td>\n",
       "      <td>True</td>\n",
       "      <td>['as', 'an', 'ece', 'my', 'first', 'feeling', 'as', 'hey', 'that', 'not', 'and', 'then', 'thought', 'about', 'all', 'the', 'times', 'my', 'co', 'workers', 'couldn', 'even', 'write', 'simple', 'message', 'in', 'our', 'communication', 'book', 'without', 'making', 'mistakes', 'getting', 'out', 'of', 'the', 'profession']</td>\n",
       "      <td>['ece', 'first', 'feeling', 'hey', 'thought', 'times', 'co', 'workers', 'even', 'write', 'simple', 'message', 'communication', 'book', 'without', 'making', 'mistakes', 'getting', 'profession']</td>\n",
       "      <td>['ece', 'first', 'feeling', 'hey', 'thought', 'time', 'co', 'worker', 'even', 'write', 'simple', 'message', 'communication', 'book', 'without', 'making', 'mistake', 'getting', 'profession']</td>\n",
       "      <td>ece first feeling hey thought time co worker even write simple message communication book without making mistake getting profession</td>\n",
       "    </tr>\n",
       "    <tr>\n",
       "      <th>2</th>\n",
       "      <td>monday: drug companies stock dives on good news for patients.</td>\n",
       "      <td>True</td>\n",
       "      <td>['monday', 'drug', 'companies', 'stock', 'dives', 'on', 'good', 'news', 'for', 'patients']</td>\n",
       "      <td>['monday', 'drug', 'companies', 'stock', 'dives', 'good', 'news', 'patients']</td>\n",
       "      <td>['monday', 'drug', 'company', 'stock', 'dive', 'good', 'news', 'patient']</td>\n",
       "      <td>monday drug company stock dive good news patient</td>\n",
       "    </tr>\n",
       "    <tr>\n",
       "      <th>3</th>\n",
       "      <td>i learned that all hybrids are unfertile i wont read clickbaits https://biology.stackexchange.com/questions/16922/why-are-hybrids-infertile</td>\n",
       "      <td>False</td>\n",
       "      <td>['learned', 'that', 'all', 'hybrids', 'are', 'unfertile', 'wont', 'read', 'clickbaits', 'https', 'biology', 'stackexchange', 'com', 'questions', '16922', 'why', 'are', 'hybrids', 'infertile']</td>\n",
       "      <td>['learned', 'hybrids', 'unfertile', 'wont', 'read', 'clickbaits', 'https', 'biology', 'stackexchange', 'com', 'questions', '16922', 'hybrids', 'infertile']</td>\n",
       "      <td>['learned', 'hybrid', 'unfertile', 'wont', 'read', 'clickbaits', 'http', 'biology', 'stackexchange', 'com', 'question', '16922', 'hybrid', 'infertile']</td>\n",
       "      <td>learned hybrid unfertile wont read clickbaits http biology stackexchange com question 16922 hybrid infertile</td>\n",
       "    </tr>\n",
       "    <tr>\n",
       "      <th>4</th>\n",
       "      <td>well i was wanting to get wasted tonight.  not so much after reading this article...</td>\n",
       "      <td>False</td>\n",
       "      <td>['well', 'was', 'wanting', 'to', 'get', 'wasted', 'tonight', 'not', 'so', 'much', 'after', 'reading', 'this', 'article']</td>\n",
       "      <td>['well', 'wanting', 'get', 'wasted', 'tonight', 'much', 'reading', 'article']</td>\n",
       "      <td>['well', 'wanting', 'get', 'wasted', 'tonight', 'much', 'reading', 'article']</td>\n",
       "      <td>well wanting get wasted tonight much reading article</td>\n",
       "    </tr>\n",
       "  </tbody>\n",
       "</table>\n",
       "</div>"
      ],
      "text/plain": [
       "                                                                                                                                                                                                                                        body  \\\n",
       "0                                                                                                              i've always been taught it emerged from the earth after an impace. that is why it has similar elemental distribution to earth   \n",
       "1  as an ece, my first feeling as \"hey that's not-\" and then i thought about all the times my co-workers couldn't even write a simple message in our communication book without making mistakes. \\r\\n\\r\\ni'm getting out of the profession.    \n",
       "2                                                                                                                                                                              monday: drug companies stock dives on good news for patients.   \n",
       "3                                                                                                i learned that all hybrids are unfertile i wont read clickbaits https://biology.stackexchange.com/questions/16922/why-are-hybrids-infertile   \n",
       "4                                                                                                                                                       well i was wanting to get wasted tonight.  not so much after reading this article...   \n",
       "\n",
       "   REMOVED  \\\n",
       "0    False   \n",
       "1     True   \n",
       "2     True   \n",
       "3    False   \n",
       "4    False   \n",
       "\n",
       "                                                                                                                                                                                                                                                                                                                        tokenized  \\\n",
       "0                                                                                                                                   ['ve', 'always', 'been', 'taught', 'it', 'emerged', 'from', 'the', 'earth', 'after', 'an', 'impace', 'that', 'is', 'why', 'it', 'has', 'similar', 'elemental', 'distribution', 'to', 'earth']   \n",
       "1  ['as', 'an', 'ece', 'my', 'first', 'feeling', 'as', 'hey', 'that', 'not', 'and', 'then', 'thought', 'about', 'all', 'the', 'times', 'my', 'co', 'workers', 'couldn', 'even', 'write', 'simple', 'message', 'in', 'our', 'communication', 'book', 'without', 'making', 'mistakes', 'getting', 'out', 'of', 'the', 'profession']   \n",
       "2                                                                                                                                                                                                                                      ['monday', 'drug', 'companies', 'stock', 'dives', 'on', 'good', 'news', 'for', 'patients']   \n",
       "3                                                                                                                                 ['learned', 'that', 'all', 'hybrids', 'are', 'unfertile', 'wont', 'read', 'clickbaits', 'https', 'biology', 'stackexchange', 'com', 'questions', '16922', 'why', 'are', 'hybrids', 'infertile']   \n",
       "4                                                                                                                                                                                                        ['well', 'was', 'wanting', 'to', 'get', 'wasted', 'tonight', 'not', 'so', 'much', 'after', 'reading', 'this', 'article']   \n",
       "\n",
       "                                                                                                                                                                                            no_stop  \\\n",
       "0                                                                                               ['always', 'taught', 'emerged', 'earth', 'impace', 'similar', 'elemental', 'distribution', 'earth']   \n",
       "1  ['ece', 'first', 'feeling', 'hey', 'thought', 'times', 'co', 'workers', 'even', 'write', 'simple', 'message', 'communication', 'book', 'without', 'making', 'mistakes', 'getting', 'profession']   \n",
       "2                                                                                                                     ['monday', 'drug', 'companies', 'stock', 'dives', 'good', 'news', 'patients']   \n",
       "3                                       ['learned', 'hybrids', 'unfertile', 'wont', 'read', 'clickbaits', 'https', 'biology', 'stackexchange', 'com', 'questions', '16922', 'hybrids', 'infertile']   \n",
       "4                                                                                                                     ['well', 'wanting', 'get', 'wasted', 'tonight', 'much', 'reading', 'article']   \n",
       "\n",
       "                                                                                                                                                                                           lemma  \\\n",
       "0                                                                                            ['always', 'taught', 'emerged', 'earth', 'impace', 'similar', 'elemental', 'distribution', 'earth']   \n",
       "1  ['ece', 'first', 'feeling', 'hey', 'thought', 'time', 'co', 'worker', 'even', 'write', 'simple', 'message', 'communication', 'book', 'without', 'making', 'mistake', 'getting', 'profession']   \n",
       "2                                                                                                                      ['monday', 'drug', 'company', 'stock', 'dive', 'good', 'news', 'patient']   \n",
       "3                                        ['learned', 'hybrid', 'unfertile', 'wont', 'read', 'clickbaits', 'http', 'biology', 'stackexchange', 'com', 'question', '16922', 'hybrid', 'infertile']   \n",
       "4                                                                                                                  ['well', 'wanting', 'get', 'wasted', 'tonight', 'much', 'reading', 'article']   \n",
       "\n",
       "                                                                                                                          clean_string  \n",
       "0                                                              always taught emerged earth impace similar elemental distribution earth  \n",
       "1  ece first feeling hey thought time co worker even write simple message communication book without making mistake getting profession  \n",
       "2                                                                                     monday drug company stock dive good news patient  \n",
       "3                         learned hybrid unfertile wont read clickbaits http biology stackexchange com question 16922 hybrid infertile  \n",
       "4                                                                                 well wanting get wasted tonight much reading article  "
      ]
     },
     "execution_count": 8,
     "metadata": {},
     "output_type": "execute_result"
    }
   ],
   "source": [
    "data_cleaned.head()\n",
    "#remember to check if the output of this cell is the same if saving or loading"
   ]
  },
  {
   "cell_type": "code",
   "execution_count": 9,
   "metadata": {
    "scrolled": true
   },
   "outputs": [
    {
     "data": {
      "text/plain": [
       "body            0\n",
       "REMOVED         0\n",
       "tokenized       0\n",
       "no_stop         0\n",
       "lemma           0\n",
       "clean_string    0\n",
       "dtype: int64"
      ]
     },
     "execution_count": 9,
     "metadata": {},
     "output_type": "execute_result"
    }
   ],
   "source": [
    "data_cleaned.isna().sum()\n",
    "#test_cleaned.loc[test_cleaned['body'].str.contains('this is not me at all.')]\n",
    "#test_cleaned['clean_string'][33272]\n",
    "\n",
    "#found it. cleaning process reduces it down to empty strings, which only turn to np.nan once loaded again"
   ]
  },
  {
   "cell_type": "code",
   "execution_count": 17,
   "metadata": {},
   "outputs": [],
   "source": [
    "#models\n",
    "    #baseline NB\n",
    "    #NB, stop/lemma\n",
    "    #LSTM, autoembedding\n",
    "    #LSTM w2v\n",
    "    #LSTM glove\n",
    "    #bert\n",
    "    \n",
    "#p3 model metric displays\n",
    "def getConfusionMatrix(estimator, data, target, labels=None):\n",
    "    preds = estimator.predict(data)\n",
    "    matrix_raw = confusion_matrix(target, preds)\n",
    "    dfMatrix = pd.DataFrame(matrix_raw, index=labels, columns=labels)\n",
    "    plt.subplots(figsize=(16,8))\n",
    "    sns.heatmap(dfMatrix, annot=True, robust=True, fmt='g', cmap='Blues')\n",
    "    plt.title('Confusion Matrix')\n",
    "    plt.xlabel('Predicted Class')\n",
    "    plt.ylabel('True Class')\n",
    "    return dfMatrix\n",
    "\n",
    "def getScore(estimator, data, target, labels = None):\n",
    "    preds = estimator.predict(data)\n",
    "    results = {}\n",
    "    results['Accuracy'] = accuracy_score(target, preds)\n",
    "    results['F1'] = f1_score(target, preds, average='binary')\n",
    "    results['Recall'] = recall_score(target, preds, average='binary')\n",
    "    results['Precision'] = precision_score(target, preds, average='binary')\n",
    "    \n",
    "    dfResults = pd.DataFrame(results, index=labels)\n",
    "    #print(dfResults)\n",
    "    plt.subplots(figsize=(16,8))\n",
    "    sns.heatmap(dfResults, annot=True, robust=True, cmap='Greens', fmt='0.5g')\n",
    "    plt.title('Model Performance Summary')\n",
    "    plt.ylabel('Category')\n",
    "    return dfResults"
   ]
  },
  {
   "cell_type": "code",
   "execution_count": 18,
   "metadata": {},
   "outputs": [
    {
     "data": {
      "image/png": "[encoded data removed]",
      "text/plain": [
       "<Figure size 1152x576 with 2 Axes>"
      ]
     },
     "metadata": {
      "needs_background": "light"
     },
     "output_type": "display_data"
    },
    {
     "data": {
      "image/png": "[encoded data removed]",
      "text/plain": [
       "<Figure size 1152x576 with 2 Axes>"
      ]
     },
     "metadata": {
      "needs_background": "light"
     },
     "output_type": "display_data"
    }
   ],
   "source": [
    "#baseline NB\n",
    "#just tfidf, no lemma or stopword removal\n",
    "X = data_cleaned['body']\n",
    "y = data_cleaned['REMOVED']\n",
    "X_train, X_test, y_train, y_test = train_test_split(X,y, test_size=0.2, random_state=8492)\n",
    "\n",
    "tfidf = TfidfVectorizer(max_features=100)\n",
    "\n",
    "X_train_vectorized = tfidf.fit_transform(X_train)\n",
    "X_test_vectorized = tfidf.transform(X_test)\n",
    "\n",
    "baseline_model = MultinomialNB()\n",
    "\n",
    "baseline_model.fit(X_train_vectorized, y_train)\n",
    "\n",
    "labels = ['Not Removed', 'Removed']\n",
    "test_baseline = getScore(baseline_model, X_test_vectorized, y_test, labels)\n",
    "conf_baseline = getConfusionMatrix(baseline_model, X_test_vectorized, y_test, labels)"
   ]
  },
  {
   "cell_type": "code",
   "execution_count": 16,
   "metadata": {},
   "outputs": [
    {
     "data": {
      "text/plain": [
       "False    0.615829\n",
       "True     0.384171\n",
       "Name: REMOVED, dtype: float64"
      ]
     },
     "execution_count": 16,
     "metadata": {},
     "output_type": "execute_result"
    }
   ],
   "source": [
    "#baseline is only about %0.7 better than just picking majority class (not removed)\n",
    "y_test.value_counts(normalize=True)\n",
    "#need to fix getScore, probably rewrite it"
   ]
  },
  {
   "cell_type": "code",
   "execution_count": 13,
   "metadata": {},
   "outputs": [
    {
     "data": {
      "image/png": "[encoded data removed]",
      "text/plain": [
       "<Figure size 1152x576 with 2 Axes>"
      ]
     },
     "metadata": {
      "needs_background": "light"
     },
     "output_type": "display_data"
    },
    {
     "data": {
      "image/png": "[encoded data removed]",
      "text/plain": [
       "<Figure size 1152x576 with 2 Axes>"
      ]
     },
     "metadata": {
      "needs_background": "light"
     },
     "output_type": "display_data"
    }
   ],
   "source": [
    "#NB with stopwords removed and lemmatizing (also higher max features)\n",
    "X = data_cleaned['clean_string']\n",
    "y = data_cleaned['REMOVED']\n",
    "X_train, X_test, y_train, y_test = train_test_split(X,y, test_size=0.2, random_state=8492)\n",
    "\n",
    "tfidf = TfidfVectorizer(max_features=300)\n",
    "\n",
    "X_train_vectorized = tfidf.fit_transform(X_train)\n",
    "X_test_vectorized = tfidf.transform(X_test)\n",
    "\n",
    "NB_stop_lemma = MultinomialNB()\n",
    "NB_stop_lemma.fit(X_train_vectorized, y_train)\n",
    "\n",
    "test_NB_stop_lemma = getScore(NB_stop_lemma, X_test_vectorized, y_test, labels)\n",
    "conf_NB_stop_lemma = getConfusionMatrix(NB_stop_lemma, X_test_vectorized, y_test, labels)"
   ]
  },
  {
   "cell_type": "code",
   "execution_count": 19,
   "metadata": {},
   "outputs": [],
   "source": [
    "#very slightly better than baseline, still barely better than always picking majority"
   ]
  },
  {
   "cell_type": "code",
   "execution_count": null,
   "metadata": {},
   "outputs": [],
   "source": [
    "#insert autoembedding lstm here"
   ]
  },
  {
   "cell_type": "code",
   "execution_count": 31,
   "metadata": {},
   "outputs": [],
   "source": [
    "#use this same split for w2v lstm\n",
    "X = data_cleaned['clean_string']\n",
    "y = data_cleaned['REMOVED']\n",
    "X_train, X_test, y_train, y_test = train_test_split(X,y, test_size=0.2, random_state=8492)\n",
    "\n",
    "if exists('models/w2v_1'):\n",
    "    w2v = gensim.models.word2vec.Word2Vec.load('models/w2v_1')\n",
    "    \n",
    "else:\n",
    "\n",
    "\n",
    "    w2v_train = X_train.copy()\n",
    "\n",
    "    #turn into list of lists for gensim\n",
    "    w2v_train_list = []\n",
    "    for text in w2v_train:\n",
    "        list_words = text.split()\n",
    "        w2v_train_list.append(list_words)\n",
    "\n",
    "    #train w2v\n",
    "    w2v = gensim.models.word2vec.Word2Vec(w2v_train_list, size=300,   \n",
    "                window=8, min_count=1, sg=1, iter=30)\n",
    "\n",
    "    w2v.save('models/w2v_1')"
   ]
  },
  {
   "cell_type": "code",
   "execution_count": null,
   "metadata": {},
   "outputs": [],
   "source": [
    "#need to clean up code to get embeddings"
   ]
  },
  {
   "cell_type": "code",
   "execution_count": null,
   "metadata": {},
   "outputs": [],
   "source": []
  }
 ],
 "metadata": {
  "kernelspec": {
   "display_name": "Python (learn-env)",
   "language": "python",
   "name": "learn-env"
  },
  "language_info": {
   "codemirror_mode": {
    "name": "ipython",
    "version": 3
   },
   "file_extension": ".py",
   "mimetype": "text/x-python",
   "name": "python",
   "nbconvert_exporter": "python",
   "pygments_lexer": "ipython3",
   "version": "3.8.5"
  }
 },
 "nbformat": 4,
 "nbformat_minor": 4
}
