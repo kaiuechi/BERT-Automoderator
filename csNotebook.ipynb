{
 "cells": [
  {
   "cell_type": "code",
   "execution_count": 1,
   "metadata": {},
   "outputs": [],
   "source": [
    "import gensim\n",
    "import pandas as pd\n",
    "import numpy as np\n",
    "pd.set_option('max_colwidth', 400)\n",
    "import matplotlib.pyplot as plt\n",
    "import matplotlib.ticker as mtick\n",
    "import seaborn as sns\n",
    "from nltk import FreqDist\n",
    "from nltk.tokenize import RegexpTokenizer\n",
    "from nltk.corpus import stopwords\n",
    "from nltk.tokenize import sent_tokenize\n",
    "from nltk.stem.snowball import SnowballStemmer\n",
    "import nltk\n",
    "from sklearn.naive_bayes import MultinomialNB\n",
    "from sklearn.model_selection import cross_val_score\n",
    "from sklearn.model_selection import train_test_split\n",
    "from sklearn.feature_extraction.text import TfidfVectorizer\n",
    "from sklearn.metrics import accuracy_score\n",
    "from sklearn.metrics import f1_score\n",
    "from sklearn.metrics import recall_score\n",
    "from sklearn.metrics import precision_score\n",
    "from sklearn.metrics import confusion_matrix\n",
    "from lime import lime_text\n",
    "import tensorflow.keras.preprocessing\n",
    "import tensorflow.keras.models as models\n",
    "import tensorflow.keras.layers as layers\n",
    "import tensorflow as tf\n",
    "from transformers import TFAutoModelForSequenceClassification\n",
    "from transformers import AutoTokenizer\n",
    "from transformers import create_optimizer\n",
    "from transformers import DataCollatorWithPadding\n",
    "from datasets import Dataset\n",
    "from os.path import exists"
   ]
  },
  {
   "cell_type": "code",
   "execution_count": null,
   "metadata": {},
   "outputs": [],
   "source": []
  },
  {
   "cell_type": "code",
   "execution_count": 2,
   "metadata": {},
   "outputs": [],
   "source": [
    "train = pd.read_csv('data/reddit_200k_train.csv', encoding='ISO-8859-1')\n",
    "test = pd.read_csv('data/reddit_200k_test.csv', encoding='ISO-8859-1')"
   ]
  },
  {
   "cell_type": "code",
   "execution_count": 3,
   "metadata": {
    "scrolled": true
   },
   "outputs": [
    {
     "data": {
      "text/html": [
       "<div>\n",
       "<style scoped>\n",
       "    .dataframe tbody tr th:only-of-type {\n",
       "        vertical-align: middle;\n",
       "    }\n",
       "\n",
       "    .dataframe tbody tr th {\n",
       "        vertical-align: top;\n",
       "    }\n",
       "\n",
       "    .dataframe thead th {\n",
       "        text-align: right;\n",
       "    }\n",
       "</style>\n",
       "<table border=\"1\" class=\"dataframe\">\n",
       "  <thead>\n",
       "    <tr style=\"text-align: right;\">\n",
       "      <th></th>\n",
       "      <th>Unnamed: 0</th>\n",
       "      <th>body</th>\n",
       "      <th>score.x</th>\n",
       "      <th>parent_id.x</th>\n",
       "      <th>id</th>\n",
       "      <th>created_utc.x</th>\n",
       "      <th>retrieved_on</th>\n",
       "      <th>REMOVED</th>\n",
       "    </tr>\n",
       "  </thead>\n",
       "  <tbody>\n",
       "    <tr>\n",
       "      <th>0</th>\n",
       "      <td>1</td>\n",
       "      <td>I've always been taught it emerged from the earth after an impace. That is why it has similar elemental distribution to earth</td>\n",
       "      <td>2</td>\n",
       "      <td>t3_81u15i</td>\n",
       "      <td>dv551g6</td>\n",
       "      <td>1520121101</td>\n",
       "      <td>1524782256</td>\n",
       "      <td>False</td>\n",
       "    </tr>\n",
       "    <tr>\n",
       "      <th>1</th>\n",
       "      <td>2</td>\n",
       "      <td>As an ECE, my first feeling as \"HEY THAT'S NOT-\" and then I thought about all the times my co-workers couldn't even write a simple message in our communication book without making mistakes. \\r\\n\\r\\nI'm getting out of the profession.</td>\n",
       "      <td>2</td>\n",
       "      <td>t3_72sk35</td>\n",
       "      <td>dnl66g6</td>\n",
       "      <td>1506533157</td>\n",
       "      <td>1507150439</td>\n",
       "      <td>True</td>\n",
       "    </tr>\n",
       "    <tr>\n",
       "      <th>2</th>\n",
       "      <td>3</td>\n",
       "      <td>Monday: Drug companies stock dives on good news for patients.</td>\n",
       "      <td>5</td>\n",
       "      <td>t3_8o88yr</td>\n",
       "      <td>e02sjhz</td>\n",
       "      <td>1528087570</td>\n",
       "      <td>1532170350</td>\n",
       "      <td>True</td>\n",
       "    </tr>\n",
       "    <tr>\n",
       "      <th>3</th>\n",
       "      <td>4</td>\n",
       "      <td>i learned that all hybrids are unfertile i wont read clickbaits https://biology.stackexchange.com/questions/16922/why-are-hybrids-infertile</td>\n",
       "      <td>0</td>\n",
       "      <td>t3_6xg9t8</td>\n",
       "      <td>dmfojjp</td>\n",
       "      <td>1504290041</td>\n",
       "      <td>1506407514</td>\n",
       "      <td>False</td>\n",
       "    </tr>\n",
       "    <tr>\n",
       "      <th>4</th>\n",
       "      <td>5</td>\n",
       "      <td>Well i was wanting to get wasted tonight.  Not so much after reading this article...</td>\n",
       "      <td>3</td>\n",
       "      <td>t3_99wi9m</td>\n",
       "      <td>e4rtew8</td>\n",
       "      <td>1535140675</td>\n",
       "      <td>1537893540</td>\n",
       "      <td>False</td>\n",
       "    </tr>\n",
       "  </tbody>\n",
       "</table>\n",
       "</div>"
      ],
      "text/plain": [
       "   Unnamed: 0  \\\n",
       "0           1   \n",
       "1           2   \n",
       "2           3   \n",
       "3           4   \n",
       "4           5   \n",
       "\n",
       "                                                                                                                                                                                                                                        body  \\\n",
       "0                                                                                                              I've always been taught it emerged from the earth after an impace. That is why it has similar elemental distribution to earth   \n",
       "1  As an ECE, my first feeling as \"HEY THAT'S NOT-\" and then I thought about all the times my co-workers couldn't even write a simple message in our communication book without making mistakes. \\r\\n\\r\\nI'm getting out of the profession.    \n",
       "2                                                                                                                                                                              Monday: Drug companies stock dives on good news for patients.   \n",
       "3                                                                                                i learned that all hybrids are unfertile i wont read clickbaits https://biology.stackexchange.com/questions/16922/why-are-hybrids-infertile   \n",
       "4                                                                                                                                                       Well i was wanting to get wasted tonight.  Not so much after reading this article...   \n",
       "\n",
       "   score.x parent_id.x       id  created_utc.x  retrieved_on  REMOVED  \n",
       "0        2   t3_81u15i  dv551g6     1520121101    1524782256    False  \n",
       "1        2   t3_72sk35  dnl66g6     1506533157    1507150439     True  \n",
       "2        5   t3_8o88yr  e02sjhz     1528087570    1532170350     True  \n",
       "3        0   t3_6xg9t8  dmfojjp     1504290041    1506407514    False  \n",
       "4        3   t3_99wi9m  e4rtew8     1535140675    1537893540    False  "
      ]
     },
     "execution_count": 3,
     "metadata": {},
     "output_type": "execute_result"
    }
   ],
   "source": [
    "train.head()\n",
    "#score.x appears to be upvotes?"
   ]
  },
  {
   "cell_type": "code",
   "execution_count": 4,
   "metadata": {},
   "outputs": [
    {
     "name": "stdout",
     "output_type": "stream",
     "text": [
      "Length of train split: 167529\n",
      "Length of test split: 55843\n",
      "Relative test split size: 0.25\n"
     ]
    }
   ],
   "source": [
    "print('Length of train split:', len(train))\n",
    "print('Length of test split:', len(test))\n",
    "print('Relative test split size:', 1/((len(test)+len(train))/len(test)))"
   ]
  },
  {
   "cell_type": "code",
   "execution_count": 5,
   "metadata": {},
   "outputs": [
    {
     "name": "stdout",
     "output_type": "stream",
     "text": [
      "Label distribution:\n",
      " False    0.61492\n",
      "True     0.38508\n",
      "Name: REMOVED, dtype: float64\n"
     ]
    },
    {
     "data": {
      "text/plain": [
       "Text(1.93, 0.43507959815912467, '38.51%')"
      ]
     },
     "execution_count": 5,
     "metadata": {},
     "output_type": "execute_result"
    },
    {
     "data": {
      "image/png": "[encoded data removed]",
      "text/plain": [
       "<Figure size 864x576 with 1 Axes>"
      ]
     },
     "metadata": {
      "needs_background": "light"
     },
     "output_type": "display_data"
    }
   ],
   "source": [
    "percentage_not_removed = pd.concat([train['REMOVED'], test['REMOVED']]).value_counts(normalize=True)[0]\n",
    "percentage_removed = pd.concat([train['REMOVED'], test['REMOVED']]).value_counts(normalize=True)[1]\n",
    "print('Label distribution:\\n', pd.concat([train['REMOVED'], test['REMOVED']]).value_counts(normalize=True))\n",
    "\n",
    "fig, ax = plt.subplots(figsize=(12,8))\n",
    "ax.bar(1, percentage_not_removed, label='Not Removed')\n",
    "ax.bar(2, percentage_removed, label='Removed')\n",
    "ax.set_title('Percentage distribution of labels', fontsize=15)\n",
    "plt.xticks([1,2],['Not Removed', 'Removed'], fontsize=12)\n",
    "plt.tick_params(\n",
    "    axis='x',\n",
    "    which='minor',\n",
    "    bottom=False,\n",
    "    top=False,\n",
    "    labelbottom=False)\n",
    "plt.ylabel('Category Frequency', fontsize=12)\n",
    "plt.ylim(0, 1)\n",
    "ax.yaxis.set_major_formatter(mtick.PercentFormatter(1.0, decimals=2))\n",
    "plt.yticks([0, 0.1, 0.2, 0.3, 0.4, 0.5, 0.6, 0.7, 0.8, 0.9, 1])\n",
    "plt.text(1 -0.07, percentage_not_removed + 0.05, \"{:.2%}\".format(percentage_not_removed), fontsize=16)\n",
    "plt.text(2 -0.07, percentage_removed + 0.05, \"{:.2%}\".format(percentage_removed), fontsize=16)"
   ]
  },
  {
   "cell_type": "code",
   "execution_count": 6,
   "metadata": {
    "scrolled": true
   },
   "outputs": [
    {
     "data": {
      "text/html": [
       "<div>\n",
       "<style scoped>\n",
       "    .dataframe tbody tr th:only-of-type {\n",
       "        vertical-align: middle;\n",
       "    }\n",
       "\n",
       "    .dataframe tbody tr th {\n",
       "        vertical-align: top;\n",
       "    }\n",
       "\n",
       "    .dataframe thead th {\n",
       "        text-align: right;\n",
       "    }\n",
       "</style>\n",
       "<table border=\"1\" class=\"dataframe\">\n",
       "  <thead>\n",
       "    <tr style=\"text-align: right;\">\n",
       "      <th></th>\n",
       "      <th>Unnamed: 0</th>\n",
       "      <th>body</th>\n",
       "      <th>score.x</th>\n",
       "      <th>parent_id.x</th>\n",
       "      <th>id</th>\n",
       "      <th>created_utc.x</th>\n",
       "      <th>retrieved_on</th>\n",
       "      <th>REMOVED</th>\n",
       "    </tr>\n",
       "  </thead>\n",
       "  <tbody>\n",
       "    <tr>\n",
       "      <th>425</th>\n",
       "      <td>426</td>\n",
       "      <td>Hi Z0idberg_MD, your submission has been removed for the following reason(s)\\r\\n \\r\\nYour submission has been removed because flair has not been assigned. \\r\\n \\r\\n*This removal was automatic. If you feel this was done in error, or would like further clarification, please add flair to the post and then [message the mods](http://www.reddit.com/message/compose?to=%2Fr%2FScience&amp;amp;amp;message=M...</td>\n",
       "      <td>4</td>\n",
       "      <td>t3_78bxng</td>\n",
       "      <td>dosmmc6</td>\n",
       "      <td>1508803513</td>\n",
       "      <td>1510120310</td>\n",
       "      <td>False</td>\n",
       "    </tr>\n",
       "    <tr>\n",
       "      <th>470</th>\n",
       "      <td>471</td>\n",
       "      <td>Hi 432_Hz, your submission has been removed for the following reason(s)\\r\\n \\r\\nYour submission has been removed because flair has not been assigned. \\r\\n \\r\\n*This removal was automatic. If you feel this was done in error, or would like further clarification, please add flair to the post and then [message the mods](http://www.reddit.com/message/compose?to=%2Fr%2FScience&amp;amp;amp;message=My%20P...</td>\n",
       "      <td>2</td>\n",
       "      <td>t3_7gu35y</td>\n",
       "      <td>dqlpg3r</td>\n",
       "      <td>1512123314</td>\n",
       "      <td>1514226457</td>\n",
       "      <td>True</td>\n",
       "    </tr>\n",
       "    <tr>\n",
       "      <th>1736</th>\n",
       "      <td>1737</td>\n",
       "      <td>Hi xxxlovelit, your submission has been removed for the following reason(s)\\r\\n \\r\\nYour submission has been removed because flair has not been assigned. \\r\\n \\r\\n*This removal was automatic. If you feel this was done in error, or would like further clarification, please add flair to the post and then [message the mods](http://www.reddit.com/message/compose?to=%2Fr%2FScience&amp;amp;amp;message=My...</td>\n",
       "      <td>0</td>\n",
       "      <td>t3_9hqtmi</td>\n",
       "      <td>e6dssic</td>\n",
       "      <td>1537543212</td>\n",
       "      <td>1539369659</td>\n",
       "      <td>True</td>\n",
       "    </tr>\n",
       "    <tr>\n",
       "      <th>1890</th>\n",
       "      <td>1891</td>\n",
       "      <td>Hi FM9022, your submission has been removed for the following reason(s)\\r\\n \\r\\nYour submission has been removed because flair has not been assigned. \\r\\n \\r\\n*This removal was automatic. If you feel this was done in error, or would like further clarification, please add flair to the post and then [message the mods](http://www.reddit.com/message/compose?to=%2Fr%2FScience&amp;amp;amp;message=My%20P...</td>\n",
       "      <td>2</td>\n",
       "      <td>t3_7eywxu</td>\n",
       "      <td>dq8cqef</td>\n",
       "      <td>1511435412</td>\n",
       "      <td>1512927391</td>\n",
       "      <td>True</td>\n",
       "    </tr>\n",
       "    <tr>\n",
       "      <th>1972</th>\n",
       "      <td>1973</td>\n",
       "      <td>Hi kolorful, your submission has been removed for the following reason(s)\\r\\n \\r\\nYour submission has been removed because flair has not been assigned. \\r\\n \\r\\n*This removal was automatic. If you feel this was done in error, or would like further clarification, please add flair to the post and then [message the mods](http://www.reddit.com/message/compose?to=%2Fr%2FScience&amp;amp;amp;message=My%2...</td>\n",
       "      <td>2</td>\n",
       "      <td>t3_5x6s6e</td>\n",
       "      <td>defpo78</td>\n",
       "      <td>1488497714</td>\n",
       "      <td>1491157692</td>\n",
       "      <td>False</td>\n",
       "    </tr>\n",
       "    <tr>\n",
       "      <th>...</th>\n",
       "      <td>...</td>\n",
       "      <td>...</td>\n",
       "      <td>...</td>\n",
       "      <td>...</td>\n",
       "      <td>...</td>\n",
       "      <td>...</td>\n",
       "      <td>...</td>\n",
       "      <td>...</td>\n",
       "    </tr>\n",
       "    <tr>\n",
       "      <th>164288</th>\n",
       "      <td>164289</td>\n",
       "      <td>Hi drewiepoodle, your submission has been removed for the following reason(s)\\r\\n \\r\\nYour submission has been removed because flair has not been assigned. \\r\\n \\r\\n*This removal was automatic. If you feel this was done in error, or would like further clarification, please add flair to the post and then [message the mods](http://www.reddit.com/message/compose?to=%2Fr%2FScience&amp;amp;amp;message=...</td>\n",
       "      <td>0</td>\n",
       "      <td>t3_8nj7gg</td>\n",
       "      <td>dzvukp6</td>\n",
       "      <td>1527780311</td>\n",
       "      <td>1528193263</td>\n",
       "      <td>True</td>\n",
       "    </tr>\n",
       "    <tr>\n",
       "      <th>164987</th>\n",
       "      <td>164988</td>\n",
       "      <td>Your submission has been removed because it violates our submission rules. Please read the [Rules for Headlines](https://www.reddit.com/r/science/wiki/clickbait) and contact the mods if you have further questions.\\r\\n\\r\\n*I am a bot, and this action was performed automatically. Please [contact the moderators of this subreddit](/message/compose/?to=/r/science) if you have any questions or conce...</td>\n",
       "      <td>2</td>\n",
       "      <td>t3_5n65jd</td>\n",
       "      <td>dc8x5ab</td>\n",
       "      <td>1484067606</td>\n",
       "      <td>1485934698</td>\n",
       "      <td>False</td>\n",
       "    </tr>\n",
       "    <tr>\n",
       "      <th>165061</th>\n",
       "      <td>165062</td>\n",
       "      <td>Your submission has been removed because it violates our submission rules. Please read the [Rules for Headlines](https://www.reddit.com/r/science/wiki/clickbait) and contact the mods if you have further questions.\\r\\n\\r\\n*I am a bot, and this action was performed automatically. Please [contact the moderators of this subreddit](/message/compose/?to=/r/science) if you have any questions or conce...</td>\n",
       "      <td>2</td>\n",
       "      <td>t3_8kh0eu</td>\n",
       "      <td>dz7kvv3</td>\n",
       "      <td>1526682161</td>\n",
       "      <td>1527680654</td>\n",
       "      <td>False</td>\n",
       "    </tr>\n",
       "    <tr>\n",
       "      <th>166707</th>\n",
       "      <td>166708</td>\n",
       "      <td>Hi giraldita, your submission has been removed for the following reason(s)\\r\\n \\r\\nYour submission has been removed because flair has not been assigned. \\r\\n \\r\\n*This removal was automatic. If you feel this was done in error, or would like further clarification, please add flair to the post and then [message the mods](http://www.reddit.com/message/compose?to=%2Fr%2FScience&amp;amp;amp;message=My%...</td>\n",
       "      <td>2</td>\n",
       "      <td>t3_9dxug3</td>\n",
       "      <td>e5kp9rq</td>\n",
       "      <td>1536350415</td>\n",
       "      <td>1538806894</td>\n",
       "      <td>False</td>\n",
       "    </tr>\n",
       "    <tr>\n",
       "      <th>167348</th>\n",
       "      <td>167349</td>\n",
       "      <td>Hi msh1371, your submission has been removed for the following reason(s)\\r\\n \\r\\nYour submission has been removed because flair has not been assigned. \\r\\n \\r\\n*This removal was automatic. If you feel this was done in error, or would like further clarification, please add flair to the post and then [message the mods](http://www.reddit.com/message/compose?to=%2Fr%2FScience&amp;amp;amp;message=My%20...</td>\n",
       "      <td>2</td>\n",
       "      <td>t3_5lumxk</td>\n",
       "      <td>dbyle2i</td>\n",
       "      <td>1483479620</td>\n",
       "      <td>1485751194</td>\n",
       "      <td>False</td>\n",
       "    </tr>\n",
       "  </tbody>\n",
       "</table>\n",
       "<p>277 rows × 8 columns</p>\n",
       "</div>"
      ],
      "text/plain": [
       "        Unnamed: 0  \\\n",
       "425            426   \n",
       "470            471   \n",
       "1736          1737   \n",
       "1890          1891   \n",
       "1972          1973   \n",
       "...            ...   \n",
       "164288      164289   \n",
       "164987      164988   \n",
       "165061      165062   \n",
       "166707      166708   \n",
       "167348      167349   \n",
       "\n",
       "                                                                                                                                                                                                                                                                                                                                                                                                                   body  \\\n",
       "425     Hi Z0idberg_MD, your submission has been removed for the following reason(s)\\r\\n \\r\\nYour submission has been removed because flair has not been assigned. \\r\\n \\r\\n*This removal was automatic. If you feel this was done in error, or would like further clarification, please add flair to the post and then [message the mods](http://www.reddit.com/message/compose?to=%2Fr%2FScience&amp;amp;message=M...   \n",
       "470     Hi 432_Hz, your submission has been removed for the following reason(s)\\r\\n \\r\\nYour submission has been removed because flair has not been assigned. \\r\\n \\r\\n*This removal was automatic. If you feel this was done in error, or would like further clarification, please add flair to the post and then [message the mods](http://www.reddit.com/message/compose?to=%2Fr%2FScience&amp;amp;message=My%20P...   \n",
       "1736    Hi xxxlovelit, your submission has been removed for the following reason(s)\\r\\n \\r\\nYour submission has been removed because flair has not been assigned. \\r\\n \\r\\n*This removal was automatic. If you feel this was done in error, or would like further clarification, please add flair to the post and then [message the mods](http://www.reddit.com/message/compose?to=%2Fr%2FScience&amp;amp;message=My...   \n",
       "1890    Hi FM9022, your submission has been removed for the following reason(s)\\r\\n \\r\\nYour submission has been removed because flair has not been assigned. \\r\\n \\r\\n*This removal was automatic. If you feel this was done in error, or would like further clarification, please add flair to the post and then [message the mods](http://www.reddit.com/message/compose?to=%2Fr%2FScience&amp;amp;message=My%20P...   \n",
       "1972    Hi kolorful, your submission has been removed for the following reason(s)\\r\\n \\r\\nYour submission has been removed because flair has not been assigned. \\r\\n \\r\\n*This removal was automatic. If you feel this was done in error, or would like further clarification, please add flair to the post and then [message the mods](http://www.reddit.com/message/compose?to=%2Fr%2FScience&amp;amp;message=My%2...   \n",
       "...                                                                                                                                                                                                                                                                                                                                                                                                                 ...   \n",
       "164288  Hi drewiepoodle, your submission has been removed for the following reason(s)\\r\\n \\r\\nYour submission has been removed because flair has not been assigned. \\r\\n \\r\\n*This removal was automatic. If you feel this was done in error, or would like further clarification, please add flair to the post and then [message the mods](http://www.reddit.com/message/compose?to=%2Fr%2FScience&amp;amp;message=...   \n",
       "164987  Your submission has been removed because it violates our submission rules. Please read the [Rules for Headlines](https://www.reddit.com/r/science/wiki/clickbait) and contact the mods if you have further questions.\\r\\n\\r\\n*I am a bot, and this action was performed automatically. Please [contact the moderators of this subreddit](/message/compose/?to=/r/science) if you have any questions or conce...   \n",
       "165061  Your submission has been removed because it violates our submission rules. Please read the [Rules for Headlines](https://www.reddit.com/r/science/wiki/clickbait) and contact the mods if you have further questions.\\r\\n\\r\\n*I am a bot, and this action was performed automatically. Please [contact the moderators of this subreddit](/message/compose/?to=/r/science) if you have any questions or conce...   \n",
       "166707  Hi giraldita, your submission has been removed for the following reason(s)\\r\\n \\r\\nYour submission has been removed because flair has not been assigned. \\r\\n \\r\\n*This removal was automatic. If you feel this was done in error, or would like further clarification, please add flair to the post and then [message the mods](http://www.reddit.com/message/compose?to=%2Fr%2FScience&amp;amp;message=My%...   \n",
       "167348  Hi msh1371, your submission has been removed for the following reason(s)\\r\\n \\r\\nYour submission has been removed because flair has not been assigned. \\r\\n \\r\\n*This removal was automatic. If you feel this was done in error, or would like further clarification, please add flair to the post and then [message the mods](http://www.reddit.com/message/compose?to=%2Fr%2FScience&amp;amp;message=My%20...   \n",
       "\n",
       "        score.x parent_id.x       id  created_utc.x  retrieved_on  REMOVED  \n",
       "425           4   t3_78bxng  dosmmc6     1508803513    1510120310    False  \n",
       "470           2   t3_7gu35y  dqlpg3r     1512123314    1514226457     True  \n",
       "1736          0   t3_9hqtmi  e6dssic     1537543212    1539369659     True  \n",
       "1890          2   t3_7eywxu  dq8cqef     1511435412    1512927391     True  \n",
       "1972          2   t3_5x6s6e  defpo78     1488497714    1491157692    False  \n",
       "...         ...         ...      ...            ...           ...      ...  \n",
       "164288        0   t3_8nj7gg  dzvukp6     1527780311    1528193263     True  \n",
       "164987        2   t3_5n65jd  dc8x5ab     1484067606    1485934698    False  \n",
       "165061        2   t3_8kh0eu  dz7kvv3     1526682161    1527680654    False  \n",
       "166707        2   t3_9dxug3  e5kp9rq     1536350415    1538806894    False  \n",
       "167348        2   t3_5lumxk  dbyle2i     1483479620    1485751194    False  \n",
       "\n",
       "[277 rows x 8 columns]"
      ]
     },
     "execution_count": 6,
     "metadata": {},
     "output_type": "execute_result"
    }
   ],
   "source": [
    "# Comment removal messages are contained in this set, too.\n",
    "# Since these are automated or from moderators, they do not \n",
    "# represent the kinds of comments the model will actually be working with.\n",
    "train.loc[train['body'].str.contains('has been removed because')]"
   ]
  },
  {
   "cell_type": "code",
   "execution_count": 7,
   "metadata": {},
   "outputs": [],
   "source": [
    "stopwords_list = stopwords.words('english')\n",
    "\n",
    "def remove_stopwords(input_list):\n",
    "    output_list = []\n",
    "    for word in input_list:\n",
    "        if word not in stopwords_list:\n",
    "            output_list.append(word)\n",
    "    return output_list\n",
    "\n",
    "\n",
    "def clean_input(input_df):\n",
    "    df = input_df.copy() #copy df \n",
    "\n",
    "    #drop useless columns\n",
    "    df.drop(['Unnamed: 0', 'score.x', 'parent_id.x', 'id', 'created_utc.x', 'retrieved_on'], axis=1, inplace=True)\n",
    "    \n",
    "    #lowercase\n",
    "    df.body = df.body.str.lower()\n",
    "    \n",
    "    #drop all rows matching removal text\n",
    "    df.drop(\n",
    "        df.loc[df['body'].str.contains('your submission has been removed for the following')].index,\n",
    "        inplace=True\n",
    "    )\n",
    "    \n",
    "    df.drop(\n",
    "        df.loc[df['body'].str.contains('has been removed because')].index,\n",
    "        inplace=True\n",
    "    )\n",
    "    \n",
    "    #strip special characters and tokenize\n",
    "    pattern = r\"(?u)\\b\\w\\w+\\b\"\n",
    "    tokenizer = RegexpTokenizer(pattern)\n",
    "    df['tokenized'] = df['body'].apply(tokenizer.tokenize)\n",
    "    \n",
    "    #remove stopwords\n",
    "    df['no_stop'] = df['tokenized'].apply(remove_stopwords)\n",
    "    \n",
    "    #lemma\n",
    "    lemma = nltk.stem.wordnet.WordNetLemmatizer()\n",
    "    df['lemma'] = df['no_stop'].apply(lambda x: [lemma.lemmatize(y) for y in x])\n",
    "    \n",
    "    #save seperately as string\n",
    "    df['clean_string'] = df['lemma'].apply(lambda x: ' '.join(x))\n",
    "    \n",
    "    #drop NaNs\n",
    "    df.drop(df.loc[df['clean_string'].isna()].index, inplace=True)\n",
    "    \n",
    "    #drop empty strings\n",
    "    df.drop(df.loc[df['clean_string'] == ''].index, inplace=True)\n",
    "    #print(df.isna().sum())\n",
    "\n",
    "    return df\n",
    "\n",
    "#load cleaned csv if it already exists, otherwise clean and save\n",
    "if exists('data/data_cleaned.csv'):\n",
    "    data_cleaned = pd.read_csv('data/data_cleaned.csv', index_col='Unnamed: 0')\n",
    "\n",
    "else:\n",
    "    train_cleaned = clean_input(train)\n",
    "    test_cleaned = clean_input(test)\n",
    "\n",
    "    data_cleaned = pd.concat([train_cleaned, test_cleaned])\n",
    "    data_cleaned.reset_index(inplace=True)\n",
    "    data_cleaned.drop(['index'], axis=1, inplace=True)\n",
    "    #data_cleaned.head()\n",
    "    data_cleaned.to_csv('data/data_cleaned.csv')\n",
    "    data_cleaned = pd.read_csv('data/data_cleaned.csv', index_col='Unnamed: 0')"
   ]
  },
  {
   "cell_type": "code",
   "execution_count": 8,
   "metadata": {
    "scrolled": true
   },
   "outputs": [
    {
     "data": {
      "text/html": [
       "<div>\n",
       "<style scoped>\n",
       "    .dataframe tbody tr th:only-of-type {\n",
       "        vertical-align: middle;\n",
       "    }\n",
       "\n",
       "    .dataframe tbody tr th {\n",
       "        vertical-align: top;\n",
       "    }\n",
       "\n",
       "    .dataframe thead th {\n",
       "        text-align: right;\n",
       "    }\n",
       "</style>\n",
       "<table border=\"1\" class=\"dataframe\">\n",
       "  <thead>\n",
       "    <tr style=\"text-align: right;\">\n",
       "      <th></th>\n",
       "      <th>body</th>\n",
       "      <th>REMOVED</th>\n",
       "      <th>tokenized</th>\n",
       "      <th>no_stop</th>\n",
       "      <th>lemma</th>\n",
       "      <th>clean_string</th>\n",
       "    </tr>\n",
       "  </thead>\n",
       "  <tbody>\n",
       "    <tr>\n",
       "      <th>0</th>\n",
       "      <td>i've always been taught it emerged from the earth after an impace. that is why it has similar elemental distribution to earth</td>\n",
       "      <td>False</td>\n",
       "      <td>['ve', 'always', 'been', 'taught', 'it', 'emerged', 'from', 'the', 'earth', 'after', 'an', 'impace', 'that', 'is', 'why', 'it', 'has', 'similar', 'elemental', 'distribution', 'to', 'earth']</td>\n",
       "      <td>['always', 'taught', 'emerged', 'earth', 'impace', 'similar', 'elemental', 'distribution', 'earth']</td>\n",
       "      <td>['always', 'taught', 'emerged', 'earth', 'impace', 'similar', 'elemental', 'distribution', 'earth']</td>\n",
       "      <td>always taught emerged earth impace similar elemental distribution earth</td>\n",
       "    </tr>\n",
       "    <tr>\n",
       "      <th>1</th>\n",
       "      <td>as an ece, my first feeling as \"hey that's not-\" and then i thought about all the times my co-workers couldn't even write a simple message in our communication book without making mistakes. \\r\\n\\r\\ni'm getting out of the profession.</td>\n",
       "      <td>True</td>\n",
       "      <td>['as', 'an', 'ece', 'my', 'first', 'feeling', 'as', 'hey', 'that', 'not', 'and', 'then', 'thought', 'about', 'all', 'the', 'times', 'my', 'co', 'workers', 'couldn', 'even', 'write', 'simple', 'message', 'in', 'our', 'communication', 'book', 'without', 'making', 'mistakes', 'getting', 'out', 'of', 'the', 'profession']</td>\n",
       "      <td>['ece', 'first', 'feeling', 'hey', 'thought', 'times', 'co', 'workers', 'even', 'write', 'simple', 'message', 'communication', 'book', 'without', 'making', 'mistakes', 'getting', 'profession']</td>\n",
       "      <td>['ece', 'first', 'feeling', 'hey', 'thought', 'time', 'co', 'worker', 'even', 'write', 'simple', 'message', 'communication', 'book', 'without', 'making', 'mistake', 'getting', 'profession']</td>\n",
       "      <td>ece first feeling hey thought time co worker even write simple message communication book without making mistake getting profession</td>\n",
       "    </tr>\n",
       "    <tr>\n",
       "      <th>2</th>\n",
       "      <td>monday: drug companies stock dives on good news for patients.</td>\n",
       "      <td>True</td>\n",
       "      <td>['monday', 'drug', 'companies', 'stock', 'dives', 'on', 'good', 'news', 'for', 'patients']</td>\n",
       "      <td>['monday', 'drug', 'companies', 'stock', 'dives', 'good', 'news', 'patients']</td>\n",
       "      <td>['monday', 'drug', 'company', 'stock', 'dive', 'good', 'news', 'patient']</td>\n",
       "      <td>monday drug company stock dive good news patient</td>\n",
       "    </tr>\n",
       "    <tr>\n",
       "      <th>3</th>\n",
       "      <td>i learned that all hybrids are unfertile i wont read clickbaits https://biology.stackexchange.com/questions/16922/why-are-hybrids-infertile</td>\n",
       "      <td>False</td>\n",
       "      <td>['learned', 'that', 'all', 'hybrids', 'are', 'unfertile', 'wont', 'read', 'clickbaits', 'https', 'biology', 'stackexchange', 'com', 'questions', '16922', 'why', 'are', 'hybrids', 'infertile']</td>\n",
       "      <td>['learned', 'hybrids', 'unfertile', 'wont', 'read', 'clickbaits', 'https', 'biology', 'stackexchange', 'com', 'questions', '16922', 'hybrids', 'infertile']</td>\n",
       "      <td>['learned', 'hybrid', 'unfertile', 'wont', 'read', 'clickbaits', 'http', 'biology', 'stackexchange', 'com', 'question', '16922', 'hybrid', 'infertile']</td>\n",
       "      <td>learned hybrid unfertile wont read clickbaits http biology stackexchange com question 16922 hybrid infertile</td>\n",
       "    </tr>\n",
       "    <tr>\n",
       "      <th>4</th>\n",
       "      <td>well i was wanting to get wasted tonight.  not so much after reading this article...</td>\n",
       "      <td>False</td>\n",
       "      <td>['well', 'was', 'wanting', 'to', 'get', 'wasted', 'tonight', 'not', 'so', 'much', 'after', 'reading', 'this', 'article']</td>\n",
       "      <td>['well', 'wanting', 'get', 'wasted', 'tonight', 'much', 'reading', 'article']</td>\n",
       "      <td>['well', 'wanting', 'get', 'wasted', 'tonight', 'much', 'reading', 'article']</td>\n",
       "      <td>well wanting get wasted tonight much reading article</td>\n",
       "    </tr>\n",
       "  </tbody>\n",
       "</table>\n",
       "</div>"
      ],
      "text/plain": [
       "                                                                                                                                                                                                                                        body  \\\n",
       "0                                                                                                              i've always been taught it emerged from the earth after an impace. that is why it has similar elemental distribution to earth   \n",
       "1  as an ece, my first feeling as \"hey that's not-\" and then i thought about all the times my co-workers couldn't even write a simple message in our communication book without making mistakes. \\r\\n\\r\\ni'm getting out of the profession.    \n",
       "2                                                                                                                                                                              monday: drug companies stock dives on good news for patients.   \n",
       "3                                                                                                i learned that all hybrids are unfertile i wont read clickbaits https://biology.stackexchange.com/questions/16922/why-are-hybrids-infertile   \n",
       "4                                                                                                                                                       well i was wanting to get wasted tonight.  not so much after reading this article...   \n",
       "\n",
       "   REMOVED  \\\n",
       "0    False   \n",
       "1     True   \n",
       "2     True   \n",
       "3    False   \n",
       "4    False   \n",
       "\n",
       "                                                                                                                                                                                                                                                                                                                        tokenized  \\\n",
       "0                                                                                                                                   ['ve', 'always', 'been', 'taught', 'it', 'emerged', 'from', 'the', 'earth', 'after', 'an', 'impace', 'that', 'is', 'why', 'it', 'has', 'similar', 'elemental', 'distribution', 'to', 'earth']   \n",
       "1  ['as', 'an', 'ece', 'my', 'first', 'feeling', 'as', 'hey', 'that', 'not', 'and', 'then', 'thought', 'about', 'all', 'the', 'times', 'my', 'co', 'workers', 'couldn', 'even', 'write', 'simple', 'message', 'in', 'our', 'communication', 'book', 'without', 'making', 'mistakes', 'getting', 'out', 'of', 'the', 'profession']   \n",
       "2                                                                                                                                                                                                                                      ['monday', 'drug', 'companies', 'stock', 'dives', 'on', 'good', 'news', 'for', 'patients']   \n",
       "3                                                                                                                                 ['learned', 'that', 'all', 'hybrids', 'are', 'unfertile', 'wont', 'read', 'clickbaits', 'https', 'biology', 'stackexchange', 'com', 'questions', '16922', 'why', 'are', 'hybrids', 'infertile']   \n",
       "4                                                                                                                                                                                                        ['well', 'was', 'wanting', 'to', 'get', 'wasted', 'tonight', 'not', 'so', 'much', 'after', 'reading', 'this', 'article']   \n",
       "\n",
       "                                                                                                                                                                                            no_stop  \\\n",
       "0                                                                                               ['always', 'taught', 'emerged', 'earth', 'impace', 'similar', 'elemental', 'distribution', 'earth']   \n",
       "1  ['ece', 'first', 'feeling', 'hey', 'thought', 'times', 'co', 'workers', 'even', 'write', 'simple', 'message', 'communication', 'book', 'without', 'making', 'mistakes', 'getting', 'profession']   \n",
       "2                                                                                                                     ['monday', 'drug', 'companies', 'stock', 'dives', 'good', 'news', 'patients']   \n",
       "3                                       ['learned', 'hybrids', 'unfertile', 'wont', 'read', 'clickbaits', 'https', 'biology', 'stackexchange', 'com', 'questions', '16922', 'hybrids', 'infertile']   \n",
       "4                                                                                                                     ['well', 'wanting', 'get', 'wasted', 'tonight', 'much', 'reading', 'article']   \n",
       "\n",
       "                                                                                                                                                                                           lemma  \\\n",
       "0                                                                                            ['always', 'taught', 'emerged', 'earth', 'impace', 'similar', 'elemental', 'distribution', 'earth']   \n",
       "1  ['ece', 'first', 'feeling', 'hey', 'thought', 'time', 'co', 'worker', 'even', 'write', 'simple', 'message', 'communication', 'book', 'without', 'making', 'mistake', 'getting', 'profession']   \n",
       "2                                                                                                                      ['monday', 'drug', 'company', 'stock', 'dive', 'good', 'news', 'patient']   \n",
       "3                                        ['learned', 'hybrid', 'unfertile', 'wont', 'read', 'clickbaits', 'http', 'biology', 'stackexchange', 'com', 'question', '16922', 'hybrid', 'infertile']   \n",
       "4                                                                                                                  ['well', 'wanting', 'get', 'wasted', 'tonight', 'much', 'reading', 'article']   \n",
       "\n",
       "                                                                                                                          clean_string  \n",
       "0                                                              always taught emerged earth impace similar elemental distribution earth  \n",
       "1  ece first feeling hey thought time co worker even write simple message communication book without making mistake getting profession  \n",
       "2                                                                                     monday drug company stock dive good news patient  \n",
       "3                         learned hybrid unfertile wont read clickbaits http biology stackexchange com question 16922 hybrid infertile  \n",
       "4                                                                                 well wanting get wasted tonight much reading article  "
      ]
     },
     "execution_count": 8,
     "metadata": {},
     "output_type": "execute_result"
    }
   ],
   "source": [
    "data_cleaned.head()\n",
    "#remember to check if the output of this cell is the same if saving or loading"
   ]
  },
  {
   "cell_type": "code",
   "execution_count": 84,
   "metadata": {},
   "outputs": [],
   "source": [
    "#models\n",
    "    #baseline NB\n",
    "    #NB, stop/lemma\n",
    "    #LSTM, autoembedding\n",
    "    #LSTM w2v\n",
    "    #LSTM glove\n",
    "    #bert\n",
    "    \n",
    "#p3 model metric displays\n",
    "def getConfusionMatrix(estimator, data, target, labels=None):\n",
    "    preds = estimator.predict(data)\n",
    "    matrix_raw = confusion_matrix(target, preds)\n",
    "    dfMatrix = pd.DataFrame(matrix_raw, index=labels, columns=labels)\n",
    "    plt.subplots(figsize=(16,8))\n",
    "    sns.heatmap(dfMatrix, annot=True, robust=True, fmt='g', cmap='Blues')\n",
    "    plt.title('Confusion Matrix')\n",
    "    plt.xlabel('Predicted Class')\n",
    "    plt.ylabel('True Class')\n",
    "    return dfMatrix\n",
    "\n",
    "def getScore(estimator, data, target, labels = None):\n",
    "    preds = estimator.predict(data)\n",
    "    results = {}\n",
    "    results['Accuracy'] = accuracy_score(target, preds)\n",
    "    results['F1'] = f1_score(target, preds, average='binary')\n",
    "    results['Recall'] = recall_score(target, preds, average='binary')\n",
    "    results['Precision'] = precision_score(target, preds, average='binary')\n",
    "    \n",
    "    dfResults = pd.DataFrame(results, index=labels)\n",
    "    #print(dfResults)\n",
    "    fig, ax = plt.subplots(figsize=(16,6))\n",
    "    #sns.heatmap(dfResults, annot=True, robust=True, cmap='Greens', fmt='0.5g')\n",
    "    #print(results)\n",
    "    ax.barh((range(len(results))), results.values(), align='center')\n",
    "    plt.xlim(0, 1.0)\n",
    "    plt.yticks(np.arange(len(results)), results.keys())\n",
    "    for i, v in enumerate(results.values()):\n",
    "        #print(i, v)\n",
    "        plt.text(v + 0.01, i - 0.001, str(round((v * 100),3)) + '%', fontsize=12)\n",
    "    plt.title('Model Performance Summary')\n",
    "    plt.ylabel('Metric')\n",
    "    return dfResults"
   ]
  },
  {
   "cell_type": "code",
   "execution_count": 86,
   "metadata": {},
   "outputs": [],
   "source": [
    "#test_baseline = getScore(baseline_model, X_test_vectorized, y_test, labels)"
   ]
  },
  {
   "cell_type": "code",
   "execution_count": 87,
   "metadata": {
    "scrolled": false
   },
   "outputs": [
    {
     "data": {
      "image/png": "[encoded data removed]",
      "text/plain": [
       "<Figure size 1152x432 with 1 Axes>"
      ]
     },
     "metadata": {
      "needs_background": "light"
     },
     "output_type": "display_data"
    },
    {
     "data": {
      "image/png": "[encoded data removed]",
      "text/plain": [
       "<Figure size 1152x576 with 2 Axes>"
      ]
     },
     "metadata": {
      "needs_background": "light"
     },
     "output_type": "display_data"
    }
   ],
   "source": [
    "#baseline NB\n",
    "#just tfidf, no lemma or stopword removal\n",
    "X = data_cleaned['body']\n",
    "y = data_cleaned['REMOVED']\n",
    "X_train, X_test, y_train, y_test = train_test_split(X,y, test_size=0.2, random_state=8492)\n",
    "\n",
    "tfidf = TfidfVectorizer(max_features=100)\n",
    "\n",
    "X_train_vectorized = tfidf.fit_transform(X_train)\n",
    "X_test_vectorized = tfidf.transform(X_test)\n",
    "\n",
    "baseline_model = MultinomialNB()\n",
    "\n",
    "baseline_model.fit(X_train_vectorized, y_train)\n",
    "\n",
    "labels = ['Not Removed', 'Removed']\n",
    "test_baseline = getScore(baseline_model, X_test_vectorized, y_test, labels)\n",
    "conf_baseline = getConfusionMatrix(baseline_model, X_test_vectorized, y_test, labels)"
   ]
  },
  {
   "cell_type": "code",
   "execution_count": 88,
   "metadata": {},
   "outputs": [
    {
     "data": {
      "text/plain": [
       "False    0.615829\n",
       "True     0.384171\n",
       "Name: REMOVED, dtype: float64"
      ]
     },
     "execution_count": 88,
     "metadata": {},
     "output_type": "execute_result"
    }
   ],
   "source": [
    "#baseline is only about %0.7 better than just picking majority class (not removed)\n",
    "y_test.value_counts(normalize=True)\n",
    "#need to fix getScore, probably rewrite it"
   ]
  },
  {
   "cell_type": "code",
   "execution_count": 89,
   "metadata": {},
   "outputs": [
    {
     "data": {
      "image/png": "[encoded data removed]",
      "text/plain": [
       "<Figure size 1152x432 with 1 Axes>"
      ]
     },
     "metadata": {
      "needs_background": "light"
     },
     "output_type": "display_data"
    },
    {
     "data": {
      "image/png": "[encoded data removed]",
      "text/plain": [
       "<Figure size 1152x576 with 2 Axes>"
      ]
     },
     "metadata": {
      "needs_background": "light"
     },
     "output_type": "display_data"
    }
   ],
   "source": [
    "#NB with stopwords removed and lemmatizing (also higher max features)\n",
    "X = data_cleaned['clean_string']\n",
    "y = data_cleaned['REMOVED']\n",
    "X_train, X_test, y_train, y_test = train_test_split(X,y, test_size=0.2, random_state=8492)\n",
    "\n",
    "tfidf = TfidfVectorizer(max_features=300)\n",
    "\n",
    "X_train_vectorized = tfidf.fit_transform(X_train)\n",
    "X_test_vectorized = tfidf.transform(X_test)\n",
    "\n",
    "NB_stop_lemma = MultinomialNB()\n",
    "NB_stop_lemma.fit(X_train_vectorized, y_train)\n",
    "\n",
    "test_NB_stop_lemma = getScore(NB_stop_lemma, X_test_vectorized, y_test, labels)\n",
    "conf_NB_stop_lemma = getConfusionMatrix(NB_stop_lemma, X_test_vectorized, y_test, labels)"
   ]
  },
  {
   "cell_type": "code",
   "execution_count": 13,
   "metadata": {},
   "outputs": [],
   "source": [
    "#very slightly better than baseline, still barely better than always picking majority"
   ]
  },
  {
   "cell_type": "code",
   "execution_count": 90,
   "metadata": {},
   "outputs": [],
   "source": [
    "#prediction function for lime to work with lstm models\n",
    "def lime_predict_lstm(text, predict_func):\n",
    "\n",
    "    final_output = []\n",
    "    predict_input = []\n",
    "    for text_variant in text:\n",
    "\n",
    "        #tokenize\n",
    "        input_list_tokenized = [text_variant.split(' ')]\n",
    "        print(input_list_tokenized)\n",
    "\n",
    "        #sequence\n",
    "        input_sequence = tokenizer.texts_to_sequences(input_list_tokenized)\n",
    "\n",
    "        #padding\n",
    "        input_seq_padded = tensorflow.keras.preprocessing.sequence.pad_sequences(input_sequence,\n",
    "                                                                                 maxlen=15, \n",
    "                                                                                 padding='post', \n",
    "                                                                                 truncating='post')\n",
    "\n",
    "        predict_input.append(input_seq_padded[0].tolist())\n",
    "    \n",
    "    \n",
    "    predict_output = predict_func(predict_input)\n",
    "    #print(predict_output)\n",
    "    \n",
    "    return predict_output"
   ]
  },
  {
   "cell_type": "code",
   "execution_count": 91,
   "metadata": {},
   "outputs": [
    {
     "name": "stdout",
     "output_type": "stream",
     "text": [
      "[['lot', 'people', 'read', 'headline', 'conclude', 'acupuncture', 'effective', 'much', 'likely', 'study', 'show', 'painkiller'], ['confirm', 'never', 'anything', 'worse', 'flu', 'flu', 'two', 'year', 'despite', 'fact', 'immunized'], ['pirate', 'pancreas'], ['oh', 'man', 'big', 'pharma', 'got', 'pissed'], ['understand', 'california', 'may', 'soon', 'require', 'labelling', 'coffee', 'carcinogen'], ['easier', 'fool', 'someone', 'convince', 'someone', 'fooled'], ['cannot', 'read', 'title'], ['want', 'watch', 'child', 'fighting', 'happened', 'tribal', 'warfare', 'today', 'like', 'congo', 'warlord'], ['assume', 'lack', 'paid', 'holiday', 'maternity', 'leave', 'much', 'effect', 'work', 'civilised', 'world'], ['keep', 'getting', 'posted', 'correlation', 'equal', 'causation', 'many', 'factor', 'declining', 'teen', 'pregnancy', 'rate']]\n"
     ]
    }
   ],
   "source": [
    "#split data for lstm models\n",
    "X = data_cleaned['clean_string']\n",
    "y = data_cleaned['REMOVED']\n",
    "X_train, X_test, y_train, y_test = train_test_split(X,y, test_size=0.2, random_state=8492)\n",
    "\n",
    "#get y vals\n",
    "y_train_final = y_train.astype(int).to_numpy()\n",
    "y_test_final = y_test.astype(int).to_numpy()\n",
    "\n",
    "\n",
    "train_list = X_train.to_list()\n",
    "train_list_tokenized = []\n",
    "for string in train_list:\n",
    "    train_list_tokenized.append(string.split(' '))\n",
    "    \n",
    "print(train_list_tokenized[0:10])\n",
    "\n",
    "test_list = X_test.to_list()\n",
    "test_list_tokenized = []\n",
    "for string in test_list:\n",
    "    test_list_tokenized.append(string.split(' '))\n",
    "    \n",
    "\n",
    "#fit tokenizer, get vocab\n",
    "\n",
    "tokenizer = tensorflow.keras.preprocessing.text.Tokenizer(lower=False, #already lowered\n",
    "                                                          split=' ', \n",
    "                                                          oov_token=\"NaN\", \n",
    "                                                          filters='!\"#$%&()*+,-./:;<=>?@[\\\\]^_`{|}~\\t\\n')\n",
    "tokenizer.fit_on_texts(train_list_tokenized)\n",
    "vocabulary = tokenizer.word_index\n",
    "#print(vocabulary)\n",
    "\n",
    "#get sequence\n",
    "\n",
    "train_sequence = tokenizer.texts_to_sequences(train_list_tokenized)\n",
    "\n",
    "test_sequence = tokenizer.texts_to_sequences(test_list_tokenized)\n",
    "\n",
    "#apply padding\n",
    "\n",
    "train_seq_padded = tensorflow.keras.preprocessing.sequence.pad_sequences(train_sequence, \n",
    "                                                                         maxlen=15, \n",
    "                                                                         padding=\"post\", \n",
    "                                                                         truncating=\"post\")\n",
    "\n",
    "test_seq_padded = tensorflow.keras.preprocessing.sequence.pad_sequences(test_sequence,\n",
    "                                                                        maxlen=15, \n",
    "                                                                        padding='post', \n",
    "                                                                        truncating='post')"
   ]
  },
  {
   "cell_type": "code",
   "execution_count": 99,
   "metadata": {},
   "outputs": [
    {
     "name": "stdout",
     "output_type": "stream",
     "text": [
      "Model: \"sequential_1\"\n",
      "_________________________________________________________________\n",
      " Layer (type)                Output Shape              Param #   \n",
      "=================================================================\n",
      " embedding (Embedding)       (None, 15, 300)           32178000  \n",
      "                                                                 \n",
      " bidirectional (Bidirectiona  (None, 15, 30)           37920     \n",
      " l)                                                              \n",
      "                                                                 \n",
      " bidirectional_1 (Bidirectio  (None, 30)               5520      \n",
      " nal)                                                            \n",
      "                                                                 \n",
      " dense (Dense)               (None, 64)                1984      \n",
      "                                                                 \n",
      " dense_1 (Dense)             (None, 32)                2080      \n",
      "                                                                 \n",
      " dense_2 (Dense)             (None, 2)                 66        \n",
      "                                                                 \n",
      "=================================================================\n",
      "Total params: 32,225,570\n",
      "Trainable params: 32,225,570\n",
      "Non-trainable params: 0\n",
      "_________________________________________________________________\n",
      "Epoch 1/16\n",
      "973/973 [==============================] - 57s 50ms/step - loss: 0.6471 - accuracy: 0.6212 - val_loss: 0.6409 - val_accuracy: 0.6309\n",
      "Epoch 2/16\n",
      "973/973 [==============================] - 46s 47ms/step - loss: 0.6376 - accuracy: 0.6324 - val_loss: 0.6406 - val_accuracy: 0.6321\n",
      "Epoch 3/16\n",
      "973/973 [==============================] - 46s 47ms/step - loss: 0.6371 - accuracy: 0.6317 - val_loss: 0.6398 - val_accuracy: 0.6298\n",
      "Epoch 4/16\n",
      "973/973 [==============================] - 46s 47ms/step - loss: 0.6367 - accuracy: 0.6318 - val_loss: 0.6394 - val_accuracy: 0.6301\n",
      "Epoch 5/16\n",
      "973/973 [==============================] - 46s 47ms/step - loss: 0.6362 - accuracy: 0.6326 - val_loss: 0.6388 - val_accuracy: 0.6322\n",
      "Epoch 6/16\n",
      "973/973 [==============================] - 46s 47ms/step - loss: 0.6354 - accuracy: 0.6340 - val_loss: 0.6380 - val_accuracy: 0.6327\n",
      "Epoch 7/16\n",
      "973/973 [==============================] - 46s 48ms/step - loss: 0.6345 - accuracy: 0.6342 - val_loss: 0.6370 - val_accuracy: 0.6327\n",
      "Epoch 8/16\n",
      "973/973 [==============================] - 46s 47ms/step - loss: 0.6332 - accuracy: 0.6340 - val_loss: 0.6352 - val_accuracy: 0.6333\n",
      "Epoch 9/16\n",
      "973/973 [==============================] - 46s 48ms/step - loss: 0.6308 - accuracy: 0.6360 - val_loss: 0.6338 - val_accuracy: 0.6308\n",
      "Epoch 10/16\n",
      "973/973 [==============================] - 46s 47ms/step - loss: 0.6264 - accuracy: 0.6383 - val_loss: 0.6264 - val_accuracy: 0.6369\n",
      "Epoch 11/16\n",
      "973/973 [==============================] - 45s 47ms/step - loss: 0.6178 - accuracy: 0.6440 - val_loss: 0.6172 - val_accuracy: 0.6460\n",
      "Epoch 12/16\n",
      "973/973 [==============================] - 46s 47ms/step - loss: 0.6090 - accuracy: 0.6510 - val_loss: 0.6059 - val_accuracy: 0.6560\n",
      "Epoch 13/16\n",
      "973/973 [==============================] - 46s 48ms/step - loss: 0.6026 - accuracy: 0.6546 - val_loss: 0.6010 - val_accuracy: 0.6581\n",
      "Epoch 14/16\n",
      "973/973 [==============================] - 46s 47ms/step - loss: 0.5964 - accuracy: 0.6610 - val_loss: 0.5959 - val_accuracy: 0.6641\n",
      "Epoch 15/16\n",
      "973/973 [==============================] - 46s 47ms/step - loss: 0.5924 - accuracy: 0.6652 - val_loss: 0.5973 - val_accuracy: 0.6561\n",
      "Epoch 16/16\n",
      "973/973 [==============================] - 46s 47ms/step - loss: 0.5881 - accuracy: 0.6676 - val_loss: 0.5890 - val_accuracy: 0.6691\n"
     ]
    },
    {
     "name": "stderr",
     "output_type": "stream",
     "text": [
      "WARNING:absl:Found untraced functions such as lstm_cell_1_layer_call_fn, lstm_cell_1_layer_call_and_return_conditional_losses, lstm_cell_2_layer_call_fn, lstm_cell_2_layer_call_and_return_conditional_losses, lstm_cell_4_layer_call_fn while saving (showing 5 of 8). These functions will not be directly callable after loading.\n"
     ]
    },
    {
     "name": "stdout",
     "output_type": "stream",
     "text": [
      "INFO:tensorflow:Assets written to: models/lstm_base\\assets\n"
     ]
    },
    {
     "name": "stderr",
     "output_type": "stream",
     "text": [
      "INFO:tensorflow:Assets written to: models/lstm_base\\assets\n"
     ]
    }
   ],
   "source": [
    "#insert autoembedding lstm here\n",
    "if exists('models/lstm_base'):\n",
    "    lstm_base = models.load_model('models/lstm_base')\n",
    "else:\n",
    "    lstm_base = models.Sequential()\n",
    "    lstm_base.add(layers.Input(shape=(15,)))\n",
    "    lstm_base.add(layers.Embedding(input_dim=107260,\n",
    "                                    output_dim=300,\n",
    "                                    input_length=15,\n",
    "                                    trainable=True))\n",
    "\n",
    "    lstm_base.add(layers.Bidirectional(layers.LSTM(units=15,\n",
    "                                                    dropout=0.2,\n",
    "                                                    return_sequences=True)))\n",
    "\n",
    "    lstm_base.add(layers.Bidirectional(layers.LSTM(units=15,\n",
    "                                                    dropout=0.2)))\n",
    "\n",
    "    lstm_base.add(layers.Dense(64, activation='relu'))\n",
    "    lstm_base.add(layers.Dense(32, activation='relu'))\n",
    "\n",
    "    lstm_base.add(layers.Dense(2, activation='softmax'))\n",
    "\n",
    "    lstm_base.compile(loss='sparse_categorical_crossentropy',\n",
    "                        optimizer='sgd',\n",
    "                         metrics=['accuracy'])\n",
    "\n",
    "    lstm_base.summary()\n",
    "\n",
    "    results_lstm_base = lstm_base.fit(train_seq_padded, y_train_final,\n",
    "                                        epochs=16,\n",
    "                                        batch_size=128,\n",
    "                                        validation_split=0.3,\n",
    "                                        verbose=1)\n",
    "    lstm_base.save('models/lstm_base')"
   ]
  },
  {
   "cell_type": "code",
   "execution_count": 100,
   "metadata": {},
   "outputs": [
    {
     "name": "stdout",
     "output_type": "stream",
     "text": [
      "1390/1390 [==============================] - 8s 5ms/step - loss: 0.5800 - accuracy: 0.6756\n"
     ]
    },
    {
     "data": {
      "text/plain": [
       "[0.5800121426582336, 0.6756154894828796]"
      ]
     },
     "execution_count": 100,
     "metadata": {},
     "output_type": "execute_result"
    }
   ],
   "source": [
    "lstm_base.evaluate(test_seq_padded, y_test_final)\n",
    "#66% accuracy. not bad for learning on its own."
   ]
  },
  {
   "cell_type": "code",
   "execution_count": 93,
   "metadata": {},
   "outputs": [],
   "source": [
    "#train w2v\n",
    "if exists('models/w2v_1'):\n",
    "    w2v = gensim.models.word2vec.Word2Vec.load('models/w2v_1')\n",
    "    \n",
    "else:\n",
    "\n",
    "\n",
    "    w2v_train = X_train.copy()\n",
    "\n",
    "    #turn into list of lists for gensim\n",
    "    w2v_train_list = []\n",
    "    for text in w2v_train:\n",
    "        list_words = text.split() #is this right?\n",
    "        w2v_train_list.append(list_words)\n",
    "\n",
    "    #train w2v\n",
    "    w2v = gensim.models.word2vec.Word2Vec(w2v_train_list, size=300,   \n",
    "                window=8, min_count=1, sg=1, iter=30)\n",
    "\n",
    "    w2v.save('models/w2v_1')"
   ]
  },
  {
   "cell_type": "code",
   "execution_count": null,
   "metadata": {},
   "outputs": [],
   "source": []
  },
  {
   "cell_type": "code",
   "execution_count": 94,
   "metadata": {},
   "outputs": [
    {
     "name": "stderr",
     "output_type": "stream",
     "text": [
      "<ipython-input-94-09ef6e586e97>:8: DeprecationWarning: Call to deprecated `__getitem__` (Method will be removed in 4.0.0, use self.wv.__getitem__() instead).\n",
      "  embed_matrix[index] =  w2v[word]\n"
     ]
    }
   ],
   "source": [
    "#get embeddings\n",
    "\n",
    "#create blank matrix\n",
    "embed_matrix = np.zeros((len(vocabulary)+1, 300))\n",
    "\n",
    "for word, index in vocabulary.items():\n",
    "    try:\n",
    "        embed_matrix[index] =  w2v[word]\n",
    "        \n",
    "    #skip word if not in w2v model\n",
    "    except:\n",
    "        pass"
   ]
  },
  {
   "cell_type": "code",
   "execution_count": 95,
   "metadata": {
    "scrolled": true
   },
   "outputs": [
    {
     "name": "stdout",
     "output_type": "stream",
     "text": [
      "word index in vocab: 1107\n",
      "embed matrix at index:\n",
      " [ 3.04814667e-01 -3.30893874e-01  6.20078921e-01 -2.70033479e-01\n",
      " -3.04309189e-01 -9.68737304e-01 -5.18821239e-01  2.31849119e-01\n",
      " -3.59101832e-01  2.71909326e-01 -1.10163771e-01 -1.57429073e-02\n",
      " -6.29382670e-01 -1.09602265e-01 -1.07467659e-01 -2.54057497e-01\n",
      "  3.54045808e-01 -8.42597112e-02 -1.69767722e-01 -1.25486255e-01\n",
      " -8.30214545e-02  1.00790888e-01  3.19447219e-01 -3.47862951e-02\n",
      "  3.34237009e-01  4.56495970e-01 -6.30232468e-02 -2.00908512e-01\n",
      " -4.70518470e-02 -6.58595338e-02  5.04337311e-01  3.93077850e-01\n",
      " -3.04118335e-01 -2.00868517e-01  3.89979869e-01  5.15015483e-01\n",
      "  1.97262630e-01  3.95818613e-02 -2.77788818e-01 -5.93370497e-01\n",
      " -1.50361314e-01 -3.04918319e-01  3.47348750e-01 -2.90700555e-01\n",
      "  1.58025414e-01 -2.02244908e-01  3.24453294e-01  4.26011741e-01\n",
      "  3.28097455e-02  2.17290834e-01  1.33585602e-01  4.61078614e-01\n",
      " -2.01409280e-01 -2.35717192e-01  3.13056618e-01 -6.43161535e-02\n",
      " -1.58439323e-01  1.60315111e-01  1.02899149e-01 -2.00656652e-01\n",
      " -1.59873977e-01  5.99657036e-02  4.57431301e-02 -2.51335949e-01\n",
      " -5.30750751e-01 -1.34083763e-01  3.44689310e-01 -2.58323640e-01\n",
      "  1.76371172e-01 -2.47852951e-01  2.16077462e-01 -4.64837015e-01\n",
      " -9.29230377e-02  4.52864140e-01  6.48532391e-01  3.15000683e-01\n",
      " -8.19879115e-01  4.34912026e-01  9.24317837e-02 -3.76816094e-01\n",
      "  4.41965684e-02  1.26395106e-01  1.43164799e-01  2.87436724e-01\n",
      " -4.78690043e-02  2.65899569e-01  3.49146992e-01  4.26370293e-01\n",
      "  9.20703188e-02 -4.20306712e-01  1.83513388e-01  1.88344747e-01\n",
      "  8.02784622e-01  1.06098540e-01  4.53559868e-02  6.53133631e-01\n",
      " -2.99196482e-01  3.60932082e-01 -3.13582659e-01  1.04661193e-02\n",
      " -1.19373940e-01 -3.22077304e-01 -2.33193651e-01  1.84908867e-01\n",
      " -4.68627922e-02  4.15811129e-02  1.37047008e-01  1.11653343e-01\n",
      "  3.64115596e-01  1.27773508e-01  8.94574374e-02  2.94953704e-01\n",
      " -1.96512014e-01 -3.95934939e-01 -4.28763032e-01  5.37261486e-01\n",
      " -7.75683373e-02  9.10619274e-02 -2.50295699e-01 -5.44031680e-01\n",
      " -1.27238240e-02 -7.98290819e-02  1.71980008e-01 -9.60907340e-02\n",
      " -1.80815771e-01  1.37742087e-01  2.89213926e-01  4.44108367e-01\n",
      " -7.40318716e-01  3.38093519e-01  8.05087835e-02  1.80795863e-01\n",
      " -1.41040266e-01 -1.48291528e-01  2.03942329e-01 -2.61823721e-02\n",
      " -8.45247358e-02 -4.16330278e-01 -1.84179842e-01 -3.93519149e-04\n",
      "  5.92000373e-02  1.26946270e-01 -6.05951883e-02 -2.09452808e-01\n",
      "  1.38568819e-01 -7.98451602e-02 -8.69111046e-02  3.37322682e-01\n",
      "  9.35515314e-02  2.14410260e-01  2.64003634e-01  2.93838263e-01\n",
      " -4.35058534e-01 -9.13156122e-02  1.06954582e-01 -4.95267734e-02\n",
      " -5.79301894e-01 -1.17435858e-01  2.25029960e-01  3.43342833e-02\n",
      " -1.96536526e-01 -8.70199859e-01 -3.08430701e-01 -2.10831389e-01\n",
      "  3.41665268e-01  2.00200036e-01 -9.52095538e-02 -2.56919265e-01\n",
      "  1.84960127e-01  4.24682856e-01  5.03396168e-02  3.80619019e-01\n",
      " -1.37219876e-01 -1.20320562e-02 -2.59197146e-01 -1.21080361e-01\n",
      " -8.06357861e-02  1.23957754e-03  2.57781953e-01 -3.92987520e-01\n",
      "  1.36374403e-02  3.89228880e-01 -1.45280007e-02 -2.93186128e-01\n",
      "  1.06099740e-01 -2.36105412e-01 -2.71602273e-01 -9.22433510e-02\n",
      "  2.75191724e-01 -2.20435053e-01 -2.23308593e-01  1.42432049e-01\n",
      "  5.24741232e-01 -8.13111961e-02  1.44143552e-01 -3.73793691e-01\n",
      " -2.98489898e-01  2.56227046e-01  1.53830901e-01 -3.92235249e-01\n",
      "  7.09395036e-02  1.78302899e-01 -1.32198289e-01  2.73501724e-02\n",
      "  2.54113138e-01  1.79194137e-01  2.18386516e-01  4.12298441e-01\n",
      "  2.10605949e-01 -1.93448409e-01  2.47900281e-03  3.35680872e-01\n",
      " -1.30418558e-02  8.71948302e-02  4.33055758e-01  1.09151646e-01\n",
      "  4.58864361e-01 -5.78226507e-01 -1.27791222e-02 -1.35710493e-01\n",
      " -8.31560045e-02 -7.02430531e-02 -2.11316004e-01  8.14855024e-02\n",
      "  3.45607072e-01  1.24601662e-01 -1.27860904e-01  2.84077615e-01\n",
      "  3.80067468e-01  2.41840214e-01  1.94683999e-01  4.02853340e-01\n",
      " -2.14221850e-01  3.80353272e-01 -3.48175205e-02  1.96002468e-01\n",
      " -2.06941187e-01 -1.30749360e-01  3.43995565e-03 -8.27586949e-02\n",
      " -4.91086662e-01 -3.04747760e-01 -2.63099611e-01  1.36140183e-01\n",
      " -2.54648447e-01 -1.16659224e-01 -3.16677123e-01 -6.73468590e-01\n",
      " -2.48843119e-01  1.30080774e-01  1.79771870e-01  1.28485858e-01\n",
      "  3.44031036e-01 -2.28886813e-01 -2.14234955e-04 -3.78622442e-01\n",
      "  1.15114436e-01 -1.50846884e-01  1.00786157e-01 -2.47593611e-01\n",
      "  6.46599233e-02 -7.70166934e-01  1.74593374e-01 -2.54483104e-01\n",
      "  2.93135375e-01 -2.60604084e-01 -1.20375464e-02  3.97166044e-01\n",
      " -1.31232128e-01  3.30103070e-01  7.06351548e-02  1.37821198e-01\n",
      " -7.26424828e-02  3.73611271e-01 -2.14014962e-01 -8.01922530e-02\n",
      " -2.69483119e-01 -4.13723350e-01 -1.98276602e-02  2.67824531e-01\n",
      " -1.47649586e-01 -1.79813802e-01 -9.85883698e-02 -3.70970219e-01\n",
      " -2.75387108e-01 -3.94658715e-01  1.75517499e-01  9.97886360e-02\n",
      " -4.13511932e-01  3.67228955e-01  1.16621979e-01  4.59278077e-01\n",
      "  6.38307512e-01  3.65241885e-01 -5.89532733e-01  2.62900203e-01\n",
      " -3.02649915e-01 -5.46608806e-01 -8.01246837e-02  2.45469779e-01]\n"
     ]
    }
   ],
   "source": [
    "#check embed matrix\n",
    "word = \"movie\"\n",
    "print(\"word index in vocab:\", vocabulary[word])\n",
    "print(\"embed matrix at index:\\n\", embed_matrix[vocabulary[word]])"
   ]
  },
  {
   "cell_type": "code",
   "execution_count": 98,
   "metadata": {},
   "outputs": [
    {
     "data": {
      "text/plain": [
       "107260"
      ]
     },
     "execution_count": 98,
     "metadata": {},
     "output_type": "execute_result"
    }
   ],
   "source": [
    "embed_matrix.shape[0]"
   ]
  },
  {
   "cell_type": "code",
   "execution_count": 19,
   "metadata": {},
   "outputs": [],
   "source": [
    "#w2v lstm\n",
    "\n",
    "if exists('models/lstm_w2v'):\n",
    "    lstm_w2v = models.load_model('models/lstm_w2v')\n",
    "\n",
    "else:\n",
    "    lstm_w2v = models.Sequential()\n",
    "    lstm_w2v.add(layers.Input(shape=(15,)))\n",
    "    lstm_w2v.add(layers.Embedding(input_dim=embed_matrix.shape[0],\n",
    "                                    output_dim=embed_matrix.shape[1],\n",
    "                                    weights=[embed_matrix],\n",
    "                                    input_length=15,\n",
    "                                    trainable=False))\n",
    "    \n",
    "    lstm_w2v.add(layers.Bidirectional(layers.LSTM(units=15,\n",
    "                                                    dropout=0.2,\n",
    "                                                    return_sequences=True)))\n",
    "    \n",
    "    lstm_w2v.add(layers.Bidirectional(layers.LSTM(units=15,\n",
    "                                                    dropout=0.2)))\n",
    "    \n",
    "    lstm_w2v.add(layers.Dense(64, activation='relu'))\n",
    "    lstm_w2v.add(layers.Dense(32, activation='relu'))\n",
    "    \n",
    "    lstm_w2v.add(layers.Dense(2, activation='softmax'))\n",
    "    \n",
    "    lstm_w2v.compile(loss='sparse_categorical_crossentropy',\n",
    "                       optimizer='sgd',\n",
    "                       metrics=['accuracy'])\n",
    "    \n",
    "    lstm_w2v.summary()\n",
    "    \n",
    "    results_lstm_w2v = lstm_w2v.fit(train_seq_padded, y_train_final,\n",
    "                                        epochs=16,\n",
    "                                        batch_size=128,\n",
    "                                        validation_split=0.3,\n",
    "                                        verbose=1)\n",
    "    \n",
    "    #need to implement result saving methods from p4\n",
    "    \n",
    "    lstm_w2v.save('models/lstm_w2v')"
   ]
  },
  {
   "cell_type": "code",
   "execution_count": 20,
   "metadata": {},
   "outputs": [
    {
     "name": "stdout",
     "output_type": "stream",
     "text": [
      "1390/1390 [==============================] - 10s 5ms/step - loss: 0.5614 - accuracy: 0.6912\n"
     ]
    },
    {
     "data": {
      "text/plain": [
       "[0.561391294002533, 0.6912422776222229]"
      ]
     },
     "execution_count": 20,
     "metadata": {},
     "output_type": "execute_result"
    }
   ],
   "source": [
    "#test model performance\n",
    "lstm_w2v.evaluate(test_seq_padded, y_test_final)\n",
    "\n",
    "#69% accuracy, nice improvement over NB models"
   ]
  },
  {
   "cell_type": "code",
   "execution_count": null,
   "metadata": {},
   "outputs": [],
   "source": []
  },
  {
   "cell_type": "code",
   "execution_count": null,
   "metadata": {},
   "outputs": [],
   "source": []
  },
  {
   "cell_type": "code",
   "execution_count": null,
   "metadata": {},
   "outputs": [],
   "source": []
  },
  {
   "cell_type": "code",
   "execution_count": 23,
   "metadata": {},
   "outputs": [],
   "source": [
    "#get glove embeddings\n",
    "glove = dict()\n",
    "\n",
    "#file not present currently\n",
    "#glove file is aroung 1gb, need to find a way to download via notebook\n",
    "#also please remember to add to gitignore\n",
    "with open('data/glove/glove.6B.300d.txt', 'r', encoding='utf8') as f:\n",
    "    w = 0\n",
    "    for line in f.readlines():\n",
    "        line = line.split(' ')\n",
    "        \n",
    "        try:\n",
    "            glove[line[0]] = np.array(line[1:], dtype=float)\n",
    "            \n",
    "        except:\n",
    "            print('failed on line', w)\n",
    "            continue\n",
    "            \n",
    "embed_matrix_glove = np.zeros((len(vocabulary)+1, 300))\n",
    "\n",
    "for word, index in vocabulary.items():\n",
    "    try:\n",
    "        embed_matrix_glove[index] =  glove[word]\n",
    "    #skip word if not in glove model\n",
    "    except:\n",
    "        pass"
   ]
  },
  {
   "cell_type": "code",
   "execution_count": 24,
   "metadata": {
    "scrolled": true
   },
   "outputs": [
    {
     "name": "stdout",
     "output_type": "stream",
     "text": [
      "Model: \"sequential_1\"\n",
      "_________________________________________________________________\n",
      " Layer (type)                Output Shape              Param #   \n",
      "=================================================================\n",
      " embedding_1 (Embedding)     (None, 15, 300)           32178000  \n",
      "                                                                 \n",
      " bidirectional_2 (Bidirectio  (None, 15, 30)           37920     \n",
      " nal)                                                            \n",
      "                                                                 \n",
      " bidirectional_3 (Bidirectio  (None, 30)               5520      \n",
      " nal)                                                            \n",
      "                                                                 \n",
      " dense_3 (Dense)             (None, 64)                1984      \n",
      "                                                                 \n",
      " dense_4 (Dense)             (None, 32)                2080      \n",
      "                                                                 \n",
      " dense_5 (Dense)             (None, 2)                 66        \n",
      "                                                                 \n",
      "=================================================================\n",
      "Total params: 32,225,570\n",
      "Trainable params: 47,570\n",
      "Non-trainable params: 32,178,000\n",
      "_________________________________________________________________\n",
      "Epoch 1/16\n",
      "1182/1182 [==============================] - 50s 36ms/step - loss: 0.6564 - accuracy: 0.6104 - val_loss: 0.6369 - val_accuracy: 0.6127\n",
      "Epoch 2/16\n",
      "1182/1182 [==============================] - 41s 35ms/step - loss: 0.6197 - accuracy: 0.6455 - val_loss: 0.6070 - val_accuracy: 0.6567\n",
      "Epoch 3/16\n",
      "1182/1182 [==============================] - 42s 35ms/step - loss: 0.6048 - accuracy: 0.6573 - val_loss: 0.6017 - val_accuracy: 0.6589\n",
      "Epoch 4/16\n",
      "1182/1182 [==============================] - 43s 36ms/step - loss: 0.6002 - accuracy: 0.6603 - val_loss: 0.5997 - val_accuracy: 0.6586\n",
      "Epoch 5/16\n",
      "1182/1182 [==============================] - 44s 37ms/step - loss: 0.5974 - accuracy: 0.6617 - val_loss: 0.5973 - val_accuracy: 0.6657\n",
      "Epoch 6/16\n",
      "1182/1182 [==============================] - 42s 36ms/step - loss: 0.5955 - accuracy: 0.6648 - val_loss: 0.5951 - val_accuracy: 0.6652\n",
      "Epoch 7/16\n",
      "1182/1182 [==============================] - 44s 37ms/step - loss: 0.5933 - accuracy: 0.6660 - val_loss: 0.5940 - val_accuracy: 0.6671\n",
      "Epoch 8/16\n",
      "1182/1182 [==============================] - 43s 36ms/step - loss: 0.5926 - accuracy: 0.6665 - val_loss: 0.5929 - val_accuracy: 0.6684\n",
      "Epoch 9/16\n",
      "1182/1182 [==============================] - 44s 37ms/step - loss: 0.5915 - accuracy: 0.6671 - val_loss: 0.5922 - val_accuracy: 0.6673\n",
      "Epoch 10/16\n",
      "1182/1182 [==============================] - 46s 39ms/step - loss: 0.5904 - accuracy: 0.6687 - val_loss: 0.5912 - val_accuracy: 0.6693\n",
      "Epoch 11/16\n",
      "1182/1182 [==============================] - 45s 38ms/step - loss: 0.5894 - accuracy: 0.6691 - val_loss: 0.5905 - val_accuracy: 0.6690\n",
      "Epoch 12/16\n",
      "1182/1182 [==============================] - 44s 37ms/step - loss: 0.5887 - accuracy: 0.6696 - val_loss: 0.5901 - val_accuracy: 0.6709\n",
      "Epoch 13/16\n",
      "1182/1182 [==============================] - 43s 36ms/step - loss: 0.5882 - accuracy: 0.6705 - val_loss: 0.5895 - val_accuracy: 0.6715\n",
      "Epoch 14/16\n",
      "1182/1182 [==============================] - 44s 38ms/step - loss: 0.5875 - accuracy: 0.6708 - val_loss: 0.5890 - val_accuracy: 0.6712\n",
      "Epoch 15/16\n",
      "1182/1182 [==============================] - 44s 38ms/step - loss: 0.5872 - accuracy: 0.6695 - val_loss: 0.5890 - val_accuracy: 0.6713\n",
      "Epoch 16/16\n",
      "1182/1182 [==============================] - 44s 37ms/step - loss: 0.5867 - accuracy: 0.6710 - val_loss: 0.5881 - val_accuracy: 0.6715\n"
     ]
    },
    {
     "name": "stderr",
     "output_type": "stream",
     "text": [
      "WARNING:absl:Found untraced functions such as lstm_cell_7_layer_call_fn, lstm_cell_7_layer_call_and_return_conditional_losses, lstm_cell_8_layer_call_fn, lstm_cell_8_layer_call_and_return_conditional_losses, lstm_cell_10_layer_call_fn while saving (showing 5 of 8). These functions will not be directly callable after loading.\n"
     ]
    },
    {
     "name": "stdout",
     "output_type": "stream",
     "text": [
      "INFO:tensorflow:Assets written to: models/lstm_glove\\assets\n"
     ]
    },
    {
     "name": "stderr",
     "output_type": "stream",
     "text": [
      "INFO:tensorflow:Assets written to: models/lstm_glove\\assets\n"
     ]
    }
   ],
   "source": [
    "#glove embedding lstm\n",
    "\n",
    "if exists('models/lstm_glove'):\n",
    "    lstm_glove = models.load_model('models/lstm_glove')\n",
    "\n",
    "else:\n",
    "    lstm_glove = models.Sequential()\n",
    "    lstm_glove.add(layers.Input(shape=(15,)))\n",
    "    lstm_glove.add(layers.Embedding(input_dim=embed_matrix_glove.shape[0],\n",
    "                                    output_dim=embed_matrix_glove.shape[1],\n",
    "                                    weights=[embed_matrix_glove],\n",
    "                                    input_length=15,\n",
    "                                    trainable=False))\n",
    "    \n",
    "    lstm_glove.add(layers.Bidirectional(layers.LSTM(units=15,\n",
    "                                                    dropout=0.2,\n",
    "                                                    return_sequences=True)))\n",
    "    \n",
    "    lstm_glove.add(layers.Bidirectional(layers.LSTM(units=15,\n",
    "                                                    dropout=0.2)))\n",
    "    \n",
    "    lstm_glove.add(layers.Dense(64, activation='relu'))\n",
    "    lstm_glove.add(layers.Dense(32, activation='relu'))\n",
    "    \n",
    "    lstm_glove.add(layers.Dense(2, activation='softmax'))\n",
    "    \n",
    "    lstm_glove.compile(loss='sparse_categorical_crossentropy',\n",
    "                       optimizer='sgd',\n",
    "                       metrics=['accuracy'])\n",
    "    \n",
    "    lstm_glove.summary()\n",
    "    \n",
    "    results_lstm_glove = lstm_glove.fit(train_seq_padded, y_train_final,\n",
    "                                        epochs=16,\n",
    "                                        batch_size=128,\n",
    "                                        validation_split=0.15,\n",
    "                                        verbose=1)\n",
    "    lstm_glove.save('models/lstm_glove')"
   ]
  },
  {
   "cell_type": "code",
   "execution_count": 26,
   "metadata": {},
   "outputs": [
    {
     "name": "stdout",
     "output_type": "stream",
     "text": [
      "1390/1390 [==============================] - 10s 7ms/step - loss: 0.5805 - accuracy: 0.6759\n"
     ]
    },
    {
     "data": {
      "text/plain": [
       "[0.5804761648178101, 0.6758853197097778]"
      ]
     },
     "execution_count": 26,
     "metadata": {},
     "output_type": "execute_result"
    }
   ],
   "source": [
    "#test model\n",
    "lstm_glove.evaluate(test_seq_padded, y_test_final)"
   ]
  },
  {
   "cell_type": "code",
   "execution_count": 27,
   "metadata": {},
   "outputs": [],
   "source": [
    "#get dataset for transformer model\n",
    "data_tf_all = data_cleaned.copy()\n",
    "data_tf_all['label'] = data_tf_all['REMOVED'].astype(int)\n",
    "data_tf_all.drop(['body', 'REMOVED', 'tokenized', 'no_stop', 'lemma'], axis=1, inplace=True)\n",
    "ds_all = Dataset.from_pandas(data_tf_all)\n",
    "\n"
   ]
  },
  {
   "cell_type": "code",
   "execution_count": 28,
   "metadata": {},
   "outputs": [
    {
     "data": {
      "application/vnd.jupyter.widget-view+json": {
       "model_id": "05ea5980e04e4cc0a8d640060b2ca333",
       "version_major": 2,
       "version_minor": 0
      },
      "text/plain": [
       "  0%|          | 0/223 [00:00<?, ?ba/s]"
      ]
     },
     "metadata": {},
     "output_type": "display_data"
    }
   ],
   "source": [
    "#preprocess transformer dataset\n",
    "tf_tokenizer = AutoTokenizer.from_pretrained('distilbert-base-uncased')\n",
    "collator = DataCollatorWithPadding(tokenizer=tf_tokenizer, return_tensors='tf')\n",
    "\n",
    "def tf_tokenize_func(input_dataset):\n",
    "    return tf_tokenizer(input_dataset['clean_string'], truncation=True)\n",
    "\n",
    "ds_tokenized = ds_all.map(tf_tokenize_func, batched = True)"
   ]
  },
  {
   "cell_type": "code",
   "execution_count": 29,
   "metadata": {},
   "outputs": [],
   "source": [
    "#split transformer data\n",
    "ds_final = ds_tokenized.train_test_split(test_size=0.1, shuffle=True)\n",
    "\n",
    "select_batch_size = 16\n",
    "\n",
    "tf_train_set = ds_final[\"train\"].to_tf_dataset(\n",
    "\n",
    "    columns=[\"attention_mask\", \"input_ids\", \"label\"],\n",
    "\n",
    "    shuffle=True,\n",
    "\n",
    "    batch_size=select_batch_size,\n",
    "\n",
    "    collate_fn=collator,\n",
    "\n",
    ")\n",
    "\n",
    "tf_validation_set = ds_final[\"test\"].to_tf_dataset(\n",
    "\n",
    "    columns=[\"attention_mask\", \"input_ids\", \"label\"],\n",
    "\n",
    "    shuffle=False,\n",
    "\n",
    "    batch_size=select_batch_size,\n",
    "\n",
    "    collate_fn=collator,\n",
    "\n",
    ")"
   ]
  },
  {
   "cell_type": "code",
   "execution_count": 32,
   "metadata": {},
   "outputs": [
    {
     "name": "stderr",
     "output_type": "stream",
     "text": [
      "Some layers from the model checkpoint at distilbert-base-uncased were not used when initializing TFDistilBertForSequenceClassification: ['activation_13', 'vocab_transform', 'vocab_layer_norm', 'vocab_projector']\n",
      "- This IS expected if you are initializing TFDistilBertForSequenceClassification from the checkpoint of a model trained on another task or with another architecture (e.g. initializing a BertForSequenceClassification model from a BertForPreTraining model).\n",
      "- This IS NOT expected if you are initializing TFDistilBertForSequenceClassification from the checkpoint of a model that you expect to be exactly identical (initializing a BertForSequenceClassification model from a BertForSequenceClassification model).\n",
      "Some layers of TFDistilBertForSequenceClassification were not initialized from the model checkpoint at distilbert-base-uncased and are newly initialized: ['pre_classifier', 'dropout_19', 'classifier']\n",
      "You should probably TRAIN this model on a down-stream task to be able to use it for predictions and inference.\n",
      "No loss specified in compile() - the model's internal loss computation will be used as the loss. Don't panic - this is a common way to train TensorFlow models in Transformers! To disable this behaviour please pass a loss argument, or explicitly pass `loss=None` if you do not want your model to compute a loss.\n"
     ]
    }
   ],
   "source": [
    "#setup transformer model\n",
    "num_epochs = 1\n",
    "\n",
    "batches_per_epoch = len(ds_final[\"train\"]) // select_batch_size\n",
    "\n",
    "total_train_steps = int(batches_per_epoch * num_epochs)\n",
    "\n",
    "optimizer, schedule = create_optimizer(init_lr=2e-5, num_warmup_steps=0, num_train_steps=total_train_steps)\n",
    "\n",
    "distilbert = TFAutoModelForSequenceClassification.from_pretrained(\"distilbert-base-uncased\", num_labels=2)\n",
    "\n",
    "distilbert.compile(optimizer=optimizer)"
   ]
  },
  {
   "cell_type": "code",
   "execution_count": 33,
   "metadata": {},
   "outputs": [
    {
     "name": "stdout",
     "output_type": "stream",
     "text": [
      "Epoch 1/5\n",
      "   2/6255 [..............................] - ETA: 23:40:22 - loss: 0.6793"
     ]
    },
    {
     "ename": "KeyboardInterrupt",
     "evalue": "",
     "output_type": "error",
     "traceback": [
      "\u001b[1;31m---------------------------------------------------------------------------\u001b[0m",
      "\u001b[1;31mKeyboardInterrupt\u001b[0m                         Traceback (most recent call last)",
      "\u001b[1;32m<ipython-input-33-0302ebf3d72d>\u001b[0m in \u001b[0;36m<module>\u001b[1;34m\u001b[0m\n\u001b[0;32m      1\u001b[0m \u001b[1;31m#fit transformer model\u001b[0m\u001b[1;33m\u001b[0m\u001b[1;33m\u001b[0m\u001b[1;33m\u001b[0m\u001b[0m\n\u001b[1;32m----> 2\u001b[1;33m \u001b[0mdistilbert\u001b[0m\u001b[1;33m.\u001b[0m\u001b[0mfit\u001b[0m\u001b[1;33m(\u001b[0m\u001b[0mx\u001b[0m\u001b[1;33m=\u001b[0m\u001b[0mtf_train_set\u001b[0m\u001b[1;33m,\u001b[0m \u001b[0mvalidation_data\u001b[0m\u001b[1;33m=\u001b[0m\u001b[0mtf_validation_set\u001b[0m\u001b[1;33m,\u001b[0m \u001b[0mepochs\u001b[0m\u001b[1;33m=\u001b[0m\u001b[0mnum_epochs\u001b[0m\u001b[1;33m)\u001b[0m\u001b[1;33m\u001b[0m\u001b[1;33m\u001b[0m\u001b[0m\n\u001b[0m",
      "\u001b[1;32m~\\anaconda3\\envs\\learn-env\\lib\\site-packages\\keras\\utils\\traceback_utils.py\u001b[0m in \u001b[0;36merror_handler\u001b[1;34m(*args, **kwargs)\u001b[0m\n\u001b[0;32m     62\u001b[0m     \u001b[0mfiltered_tb\u001b[0m \u001b[1;33m=\u001b[0m \u001b[1;32mNone\u001b[0m\u001b[1;33m\u001b[0m\u001b[1;33m\u001b[0m\u001b[0m\n\u001b[0;32m     63\u001b[0m     \u001b[1;32mtry\u001b[0m\u001b[1;33m:\u001b[0m\u001b[1;33m\u001b[0m\u001b[1;33m\u001b[0m\u001b[0m\n\u001b[1;32m---> 64\u001b[1;33m       \u001b[1;32mreturn\u001b[0m \u001b[0mfn\u001b[0m\u001b[1;33m(\u001b[0m\u001b[1;33m*\u001b[0m\u001b[0margs\u001b[0m\u001b[1;33m,\u001b[0m \u001b[1;33m**\u001b[0m\u001b[0mkwargs\u001b[0m\u001b[1;33m)\u001b[0m\u001b[1;33m\u001b[0m\u001b[1;33m\u001b[0m\u001b[0m\n\u001b[0m\u001b[0;32m     65\u001b[0m     \u001b[1;32mexcept\u001b[0m \u001b[0mException\u001b[0m \u001b[1;32mas\u001b[0m \u001b[0me\u001b[0m\u001b[1;33m:\u001b[0m  \u001b[1;31m# pylint: disable=broad-except\u001b[0m\u001b[1;33m\u001b[0m\u001b[1;33m\u001b[0m\u001b[0m\n\u001b[0;32m     66\u001b[0m       \u001b[0mfiltered_tb\u001b[0m \u001b[1;33m=\u001b[0m \u001b[0m_process_traceback_frames\u001b[0m\u001b[1;33m(\u001b[0m\u001b[0me\u001b[0m\u001b[1;33m.\u001b[0m\u001b[0m__traceback__\u001b[0m\u001b[1;33m)\u001b[0m\u001b[1;33m\u001b[0m\u001b[1;33m\u001b[0m\u001b[0m\n",
      "\u001b[1;32m~\\anaconda3\\envs\\learn-env\\lib\\site-packages\\keras\\engine\\training.py\u001b[0m in \u001b[0;36mfit\u001b[1;34m(self, x, y, batch_size, epochs, verbose, callbacks, validation_split, validation_data, shuffle, class_weight, sample_weight, initial_epoch, steps_per_epoch, validation_steps, validation_batch_size, validation_freq, max_queue_size, workers, use_multiprocessing)\u001b[0m\n\u001b[0;32m   1407\u001b[0m                 _r=1):\n\u001b[0;32m   1408\u001b[0m               \u001b[0mcallbacks\u001b[0m\u001b[1;33m.\u001b[0m\u001b[0mon_train_batch_begin\u001b[0m\u001b[1;33m(\u001b[0m\u001b[0mstep\u001b[0m\u001b[1;33m)\u001b[0m\u001b[1;33m\u001b[0m\u001b[1;33m\u001b[0m\u001b[0m\n\u001b[1;32m-> 1409\u001b[1;33m               \u001b[0mtmp_logs\u001b[0m \u001b[1;33m=\u001b[0m \u001b[0mself\u001b[0m\u001b[1;33m.\u001b[0m\u001b[0mtrain_function\u001b[0m\u001b[1;33m(\u001b[0m\u001b[0miterator\u001b[0m\u001b[1;33m)\u001b[0m\u001b[1;33m\u001b[0m\u001b[1;33m\u001b[0m\u001b[0m\n\u001b[0m\u001b[0;32m   1410\u001b[0m               \u001b[1;32mif\u001b[0m \u001b[0mdata_handler\u001b[0m\u001b[1;33m.\u001b[0m\u001b[0mshould_sync\u001b[0m\u001b[1;33m:\u001b[0m\u001b[1;33m\u001b[0m\u001b[1;33m\u001b[0m\u001b[0m\n\u001b[0;32m   1411\u001b[0m                 \u001b[0mcontext\u001b[0m\u001b[1;33m.\u001b[0m\u001b[0masync_wait\u001b[0m\u001b[1;33m(\u001b[0m\u001b[1;33m)\u001b[0m\u001b[1;33m\u001b[0m\u001b[1;33m\u001b[0m\u001b[0m\n",
      "\u001b[1;32m~\\anaconda3\\envs\\learn-env\\lib\\site-packages\\tensorflow\\python\\util\\traceback_utils.py\u001b[0m in \u001b[0;36merror_handler\u001b[1;34m(*args, **kwargs)\u001b[0m\n\u001b[0;32m    148\u001b[0m     \u001b[0mfiltered_tb\u001b[0m \u001b[1;33m=\u001b[0m \u001b[1;32mNone\u001b[0m\u001b[1;33m\u001b[0m\u001b[1;33m\u001b[0m\u001b[0m\n\u001b[0;32m    149\u001b[0m     \u001b[1;32mtry\u001b[0m\u001b[1;33m:\u001b[0m\u001b[1;33m\u001b[0m\u001b[1;33m\u001b[0m\u001b[0m\n\u001b[1;32m--> 150\u001b[1;33m       \u001b[1;32mreturn\u001b[0m \u001b[0mfn\u001b[0m\u001b[1;33m(\u001b[0m\u001b[1;33m*\u001b[0m\u001b[0margs\u001b[0m\u001b[1;33m,\u001b[0m \u001b[1;33m**\u001b[0m\u001b[0mkwargs\u001b[0m\u001b[1;33m)\u001b[0m\u001b[1;33m\u001b[0m\u001b[1;33m\u001b[0m\u001b[0m\n\u001b[0m\u001b[0;32m    151\u001b[0m     \u001b[1;32mexcept\u001b[0m \u001b[0mException\u001b[0m \u001b[1;32mas\u001b[0m \u001b[0me\u001b[0m\u001b[1;33m:\u001b[0m\u001b[1;33m\u001b[0m\u001b[1;33m\u001b[0m\u001b[0m\n\u001b[0;32m    152\u001b[0m       \u001b[0mfiltered_tb\u001b[0m \u001b[1;33m=\u001b[0m \u001b[0m_process_traceback_frames\u001b[0m\u001b[1;33m(\u001b[0m\u001b[0me\u001b[0m\u001b[1;33m.\u001b[0m\u001b[0m__traceback__\u001b[0m\u001b[1;33m)\u001b[0m\u001b[1;33m\u001b[0m\u001b[1;33m\u001b[0m\u001b[0m\n",
      "\u001b[1;32m~\\anaconda3\\envs\\learn-env\\lib\\site-packages\\tensorflow\\python\\eager\\def_function.py\u001b[0m in \u001b[0;36m__call__\u001b[1;34m(self, *args, **kwds)\u001b[0m\n\u001b[0;32m    913\u001b[0m \u001b[1;33m\u001b[0m\u001b[0m\n\u001b[0;32m    914\u001b[0m       \u001b[1;32mwith\u001b[0m \u001b[0mOptionalXlaContext\u001b[0m\u001b[1;33m(\u001b[0m\u001b[0mself\u001b[0m\u001b[1;33m.\u001b[0m\u001b[0m_jit_compile\u001b[0m\u001b[1;33m)\u001b[0m\u001b[1;33m:\u001b[0m\u001b[1;33m\u001b[0m\u001b[1;33m\u001b[0m\u001b[0m\n\u001b[1;32m--> 915\u001b[1;33m         \u001b[0mresult\u001b[0m \u001b[1;33m=\u001b[0m \u001b[0mself\u001b[0m\u001b[1;33m.\u001b[0m\u001b[0m_call\u001b[0m\u001b[1;33m(\u001b[0m\u001b[1;33m*\u001b[0m\u001b[0margs\u001b[0m\u001b[1;33m,\u001b[0m \u001b[1;33m**\u001b[0m\u001b[0mkwds\u001b[0m\u001b[1;33m)\u001b[0m\u001b[1;33m\u001b[0m\u001b[1;33m\u001b[0m\u001b[0m\n\u001b[0m\u001b[0;32m    916\u001b[0m \u001b[1;33m\u001b[0m\u001b[0m\n\u001b[0;32m    917\u001b[0m       \u001b[0mnew_tracing_count\u001b[0m \u001b[1;33m=\u001b[0m \u001b[0mself\u001b[0m\u001b[1;33m.\u001b[0m\u001b[0mexperimental_get_tracing_count\u001b[0m\u001b[1;33m(\u001b[0m\u001b[1;33m)\u001b[0m\u001b[1;33m\u001b[0m\u001b[1;33m\u001b[0m\u001b[0m\n",
      "\u001b[1;32m~\\anaconda3\\envs\\learn-env\\lib\\site-packages\\tensorflow\\python\\eager\\def_function.py\u001b[0m in \u001b[0;36m_call\u001b[1;34m(self, *args, **kwds)\u001b[0m\n\u001b[0;32m    945\u001b[0m       \u001b[1;31m# In this case we have created variables on the first call, so we run the\u001b[0m\u001b[1;33m\u001b[0m\u001b[1;33m\u001b[0m\u001b[1;33m\u001b[0m\u001b[0m\n\u001b[0;32m    946\u001b[0m       \u001b[1;31m# defunned version which is guaranteed to never create variables.\u001b[0m\u001b[1;33m\u001b[0m\u001b[1;33m\u001b[0m\u001b[1;33m\u001b[0m\u001b[0m\n\u001b[1;32m--> 947\u001b[1;33m       \u001b[1;32mreturn\u001b[0m \u001b[0mself\u001b[0m\u001b[1;33m.\u001b[0m\u001b[0m_stateless_fn\u001b[0m\u001b[1;33m(\u001b[0m\u001b[1;33m*\u001b[0m\u001b[0margs\u001b[0m\u001b[1;33m,\u001b[0m \u001b[1;33m**\u001b[0m\u001b[0mkwds\u001b[0m\u001b[1;33m)\u001b[0m  \u001b[1;31m# pylint: disable=not-callable\u001b[0m\u001b[1;33m\u001b[0m\u001b[1;33m\u001b[0m\u001b[0m\n\u001b[0m\u001b[0;32m    948\u001b[0m     \u001b[1;32melif\u001b[0m \u001b[0mself\u001b[0m\u001b[1;33m.\u001b[0m\u001b[0m_stateful_fn\u001b[0m \u001b[1;32mis\u001b[0m \u001b[1;32mnot\u001b[0m \u001b[1;32mNone\u001b[0m\u001b[1;33m:\u001b[0m\u001b[1;33m\u001b[0m\u001b[1;33m\u001b[0m\u001b[0m\n\u001b[0;32m    949\u001b[0m       \u001b[1;31m# Release the lock early so that multiple threads can perform the call\u001b[0m\u001b[1;33m\u001b[0m\u001b[1;33m\u001b[0m\u001b[1;33m\u001b[0m\u001b[0m\n",
      "\u001b[1;32m~\\anaconda3\\envs\\learn-env\\lib\\site-packages\\tensorflow\\python\\eager\\function.py\u001b[0m in \u001b[0;36m__call__\u001b[1;34m(self, *args, **kwargs)\u001b[0m\n\u001b[0;32m   2451\u001b[0m       (graph_function,\n\u001b[0;32m   2452\u001b[0m        filtered_flat_args) = self._maybe_define_function(args, kwargs)\n\u001b[1;32m-> 2453\u001b[1;33m     return graph_function._call_flat(\n\u001b[0m\u001b[0;32m   2454\u001b[0m         filtered_flat_args, captured_inputs=graph_function.captured_inputs)  # pylint: disable=protected-access\n\u001b[0;32m   2455\u001b[0m \u001b[1;33m\u001b[0m\u001b[0m\n",
      "\u001b[1;32m~\\anaconda3\\envs\\learn-env\\lib\\site-packages\\tensorflow\\python\\eager\\function.py\u001b[0m in \u001b[0;36m_call_flat\u001b[1;34m(self, args, captured_inputs, cancellation_manager)\u001b[0m\n\u001b[0;32m   1858\u001b[0m         and executing_eagerly):\n\u001b[0;32m   1859\u001b[0m       \u001b[1;31m# No tape is watching; skip to running the function.\u001b[0m\u001b[1;33m\u001b[0m\u001b[1;33m\u001b[0m\u001b[1;33m\u001b[0m\u001b[0m\n\u001b[1;32m-> 1860\u001b[1;33m       return self._build_call_outputs(self._inference_function.call(\n\u001b[0m\u001b[0;32m   1861\u001b[0m           ctx, args, cancellation_manager=cancellation_manager))\n\u001b[0;32m   1862\u001b[0m     forward_backward = self._select_forward_and_backward_functions(\n",
      "\u001b[1;32m~\\anaconda3\\envs\\learn-env\\lib\\site-packages\\tensorflow\\python\\eager\\function.py\u001b[0m in \u001b[0;36mcall\u001b[1;34m(self, ctx, args, cancellation_manager)\u001b[0m\n\u001b[0;32m    495\u001b[0m       \u001b[1;32mwith\u001b[0m \u001b[0m_InterpolateFunctionError\u001b[0m\u001b[1;33m(\u001b[0m\u001b[0mself\u001b[0m\u001b[1;33m)\u001b[0m\u001b[1;33m:\u001b[0m\u001b[1;33m\u001b[0m\u001b[1;33m\u001b[0m\u001b[0m\n\u001b[0;32m    496\u001b[0m         \u001b[1;32mif\u001b[0m \u001b[0mcancellation_manager\u001b[0m \u001b[1;32mis\u001b[0m \u001b[1;32mNone\u001b[0m\u001b[1;33m:\u001b[0m\u001b[1;33m\u001b[0m\u001b[1;33m\u001b[0m\u001b[0m\n\u001b[1;32m--> 497\u001b[1;33m           outputs = execute.execute(\n\u001b[0m\u001b[0;32m    498\u001b[0m               \u001b[0mstr\u001b[0m\u001b[1;33m(\u001b[0m\u001b[0mself\u001b[0m\u001b[1;33m.\u001b[0m\u001b[0msignature\u001b[0m\u001b[1;33m.\u001b[0m\u001b[0mname\u001b[0m\u001b[1;33m)\u001b[0m\u001b[1;33m,\u001b[0m\u001b[1;33m\u001b[0m\u001b[1;33m\u001b[0m\u001b[0m\n\u001b[0;32m    499\u001b[0m               \u001b[0mnum_outputs\u001b[0m\u001b[1;33m=\u001b[0m\u001b[0mself\u001b[0m\u001b[1;33m.\u001b[0m\u001b[0m_num_outputs\u001b[0m\u001b[1;33m,\u001b[0m\u001b[1;33m\u001b[0m\u001b[1;33m\u001b[0m\u001b[0m\n",
      "\u001b[1;32m~\\anaconda3\\envs\\learn-env\\lib\\site-packages\\tensorflow\\python\\eager\\execute.py\u001b[0m in \u001b[0;36mquick_execute\u001b[1;34m(op_name, num_outputs, inputs, attrs, ctx, name)\u001b[0m\n\u001b[0;32m     52\u001b[0m   \u001b[1;32mtry\u001b[0m\u001b[1;33m:\u001b[0m\u001b[1;33m\u001b[0m\u001b[1;33m\u001b[0m\u001b[0m\n\u001b[0;32m     53\u001b[0m     \u001b[0mctx\u001b[0m\u001b[1;33m.\u001b[0m\u001b[0mensure_initialized\u001b[0m\u001b[1;33m(\u001b[0m\u001b[1;33m)\u001b[0m\u001b[1;33m\u001b[0m\u001b[1;33m\u001b[0m\u001b[0m\n\u001b[1;32m---> 54\u001b[1;33m     tensors = pywrap_tfe.TFE_Py_Execute(ctx._handle, device_name, op_name,\n\u001b[0m\u001b[0;32m     55\u001b[0m                                         inputs, attrs, num_outputs)\n\u001b[0;32m     56\u001b[0m   \u001b[1;32mexcept\u001b[0m \u001b[0mcore\u001b[0m\u001b[1;33m.\u001b[0m\u001b[0m_NotOkStatusException\u001b[0m \u001b[1;32mas\u001b[0m \u001b[0me\u001b[0m\u001b[1;33m:\u001b[0m\u001b[1;33m\u001b[0m\u001b[1;33m\u001b[0m\u001b[0m\n",
      "\u001b[1;31mKeyboardInterrupt\u001b[0m: "
     ]
    }
   ],
   "source": [
    "#fit transformer model\n",
    "distilbert.fit(x=tf_train_set, validation_data=tf_validation_set, epochs=num_epochs)"
   ]
  },
  {
   "cell_type": "code",
   "execution_count": null,
   "metadata": {},
   "outputs": [],
   "source": []
  }
 ],
 "metadata": {
  "kernelspec": {
   "display_name": "Python (learn-env)",
   "language": "python",
   "name": "learn-env"
  },
  "language_info": {
   "codemirror_mode": {
    "name": "ipython",
    "version": 3
   },
   "file_extension": ".py",
   "mimetype": "text/x-python",
   "name": "python",
   "nbconvert_exporter": "python",
   "pygments_lexer": "ipython3",
   "version": "3.8.5"
  }
 },
 "nbformat": 4,
 "nbformat_minor": 4
}
